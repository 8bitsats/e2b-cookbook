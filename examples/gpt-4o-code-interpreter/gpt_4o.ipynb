{
  "cells": [
    {
      "cell_type": "code",
      "execution_count": 2,
      "metadata": {
        "colab": {
          "base_uri": "https://localhost:8080/"
        },
        "id": "5kS-plOSMWnS",
        "outputId": "2c4f6ad0-9ace-458d-a254-423e3f1bf471"
      },
      "outputs": [
        {
          "name": "stdout",
          "output_type": "stream",
          "text": [
            "Requirement already satisfied: openai in /usr/local/lib/python3.10/dist-packages (1.29.0)\n",
            "Requirement already satisfied: e2b_code_interpreter in /usr/local/lib/python3.10/dist-packages (0.0.5)\n",
            "Requirement already satisfied: anyio<5,>=3.5.0 in /usr/local/lib/python3.10/dist-packages (from openai) (3.7.1)\n",
            "Requirement already satisfied: distro<2,>=1.7.0 in /usr/lib/python3/dist-packages (from openai) (1.7.0)\n",
            "Requirement already satisfied: httpx<1,>=0.23.0 in /usr/local/lib/python3.10/dist-packages (from openai) (0.27.0)\n",
            "Requirement already satisfied: pydantic<3,>=1.9.0 in /usr/local/lib/python3.10/dist-packages (from openai) (2.7.1)\n",
            "Requirement already satisfied: sniffio in /usr/local/lib/python3.10/dist-packages (from openai) (1.3.1)\n",
            "Requirement already satisfied: tqdm>4 in /usr/local/lib/python3.10/dist-packages (from openai) (4.66.4)\n",
            "Requirement already satisfied: typing-extensions<5,>=4.7 in /usr/local/lib/python3.10/dist-packages (from openai) (4.11.0)\n",
            "Requirement already satisfied: e2b>=0.17.0 in /usr/local/lib/python3.10/dist-packages (from e2b_code_interpreter) (0.17.0)\n",
            "Requirement already satisfied: websocket-client<2.0.0,>=1.7.0 in /usr/local/lib/python3.10/dist-packages (from e2b_code_interpreter) (1.8.0)\n",
            "Requirement already satisfied: idna>=2.8 in /usr/local/lib/python3.10/dist-packages (from anyio<5,>=3.5.0->openai) (3.7)\n",
            "Requirement already satisfied: exceptiongroup in /usr/local/lib/python3.10/dist-packages (from anyio<5,>=3.5.0->openai) (1.2.1)\n",
            "Requirement already satisfied: aenum>=3.1.11 in /usr/local/lib/python3.10/dist-packages (from e2b>=0.17.0->e2b_code_interpreter) (3.1.15)\n",
            "Requirement already satisfied: aiohttp>=3.8.4 in /usr/local/lib/python3.10/dist-packages (from e2b>=0.17.0->e2b_code_interpreter) (3.9.5)\n",
            "Requirement already satisfied: jsonrpcclient>=4.0.3 in /usr/local/lib/python3.10/dist-packages (from e2b>=0.17.0->e2b_code_interpreter) (4.0.3)\n",
            "Requirement already satisfied: python-dateutil>=2.8.2 in /usr/local/lib/python3.10/dist-packages (from e2b>=0.17.0->e2b_code_interpreter) (2.8.2)\n",
            "Requirement already satisfied: requests>=2.31.0 in /usr/local/lib/python3.10/dist-packages (from e2b>=0.17.0->e2b_code_interpreter) (2.31.0)\n",
            "Requirement already satisfied: urllib3>=1.25.3 in /usr/local/lib/python3.10/dist-packages (from e2b>=0.17.0->e2b_code_interpreter) (2.0.7)\n",
            "Requirement already satisfied: websockets>=11.0.3 in /usr/local/lib/python3.10/dist-packages (from e2b>=0.17.0->e2b_code_interpreter) (12.0)\n",
            "Requirement already satisfied: certifi in /usr/local/lib/python3.10/dist-packages (from httpx<1,>=0.23.0->openai) (2024.2.2)\n",
            "Requirement already satisfied: httpcore==1.* in /usr/local/lib/python3.10/dist-packages (from httpx<1,>=0.23.0->openai) (1.0.5)\n",
            "Requirement already satisfied: h11<0.15,>=0.13 in /usr/local/lib/python3.10/dist-packages (from httpcore==1.*->httpx<1,>=0.23.0->openai) (0.14.0)\n",
            "Requirement already satisfied: annotated-types>=0.4.0 in /usr/local/lib/python3.10/dist-packages (from pydantic<3,>=1.9.0->openai) (0.6.0)\n",
            "Requirement already satisfied: pydantic-core==2.18.2 in /usr/local/lib/python3.10/dist-packages (from pydantic<3,>=1.9.0->openai) (2.18.2)\n",
            "Requirement already satisfied: aiosignal>=1.1.2 in /usr/local/lib/python3.10/dist-packages (from aiohttp>=3.8.4->e2b>=0.17.0->e2b_code_interpreter) (1.3.1)\n",
            "Requirement already satisfied: attrs>=17.3.0 in /usr/local/lib/python3.10/dist-packages (from aiohttp>=3.8.4->e2b>=0.17.0->e2b_code_interpreter) (23.2.0)\n",
            "Requirement already satisfied: frozenlist>=1.1.1 in /usr/local/lib/python3.10/dist-packages (from aiohttp>=3.8.4->e2b>=0.17.0->e2b_code_interpreter) (1.4.1)\n",
            "Requirement already satisfied: multidict<7.0,>=4.5 in /usr/local/lib/python3.10/dist-packages (from aiohttp>=3.8.4->e2b>=0.17.0->e2b_code_interpreter) (6.0.5)\n",
            "Requirement already satisfied: yarl<2.0,>=1.0 in /usr/local/lib/python3.10/dist-packages (from aiohttp>=3.8.4->e2b>=0.17.0->e2b_code_interpreter) (1.9.4)\n",
            "Requirement already satisfied: async-timeout<5.0,>=4.0 in /usr/local/lib/python3.10/dist-packages (from aiohttp>=3.8.4->e2b>=0.17.0->e2b_code_interpreter) (4.0.3)\n",
            "Requirement already satisfied: six>=1.5 in /usr/local/lib/python3.10/dist-packages (from python-dateutil>=2.8.2->e2b>=0.17.0->e2b_code_interpreter) (1.16.0)\n",
            "Requirement already satisfied: charset-normalizer<4,>=2 in /usr/local/lib/python3.10/dist-packages (from requests>=2.31.0->e2b>=0.17.0->e2b_code_interpreter) (3.3.2)\n"
          ]
        }
      ],
      "source": [
        "%pip install openai e2b_code_interpreter"
      ]
    },
    {
      "cell_type": "code",
      "execution_count": 71,
      "metadata": {
        "id": "locUMi_ANJek"
      },
      "outputs": [],
      "source": [
        "# TODO: Get your OpenAI API key\n",
        "OPENAI_API_KEY = \"\"\n",
        "\n",
        "# TODO: Get your E2B API key from https://e2b.dev/docs\n",
        "E2B_API_KEY = \"\"\n",
        "\n",
        "\n",
        "SYSTEM_PROMPT = \"\"\"\n",
        "## your job & context\n",
        "you are a python data scientist. you are given tasks to complete and you run python code to solve them.\n",
        "You DO NOT MAKE SYNTAX MISTAKES OR FORGET ANY IMPORTS\n",
        "- the python code runs in jupyter notebook.\n",
        "- every time you call `execute_python` tool, the python code is executed in a separate cell. it's okay to multiple calls to `execute_python`.\n",
        "- display visualizations using matplotlib or any other visualization library directly in the notebook. don't worry about saving the visualizations to a file.\n",
        "- you have access to the internet and can make api requests.\n",
        "- you also have access to the filesystem and can read/write files.\n",
        "- you can install any pip package (if it exists) if you need to but the usual packages for data analysis are already preinstalled.\n",
        "- you can run any python code you want, everything is running in a secure sandbox environment.\n",
        "\"\"\"\n",
        "\n",
        "tools = [\n",
        "    {\n",
        "        \"type\": \"function\",\n",
        "        \"function\": {\n",
        "          \"name\": \"execute_python\",\n",
        "          \"description\": \"Execute python code in a Jupyter notebook cell and returns any result, stdout, stderr, display_data, and error.\",\n",
        "          \"parameters\": {\n",
        "              \"type\": \"object\",\n",
        "              \"properties\": {\n",
        "                  \"code\": {\n",
        "                      \"type\": \"string\",\n",
        "                      \"description\": \"The python code to execute in a single cell.\"\n",
        "                  }\n",
        "              },\n",
        "              \"required\": [\"code\"]\n",
        "          }\n",
        "        },\n",
        "    }\n",
        "]"
      ]
    },
    {
      "cell_type": "code",
      "execution_count": 72,
      "metadata": {
        "id": "k_bbA6P7NGOQ"
      },
      "outputs": [],
      "source": [
        "def code_interpret(e2b_code_interpreter, code):\n",
        "  print(\"Running code interpreter...\")\n",
        "  exec = e2b_code_interpreter.notebook.exec_cell(\n",
        "    code,\n",
        "    on_stderr=lambda stderr: print(\"[Code Interpreter]\", stderr),\n",
        "    on_stdout=lambda stdout: print(\"[Code Interpreter]\", stdout),\n",
        "    # You can also stream code execution results\n",
        "    # on_result=...\n",
        "  )\n",
        "\n",
        "  if exec.error:\n",
        "    print(\"[Code Interpreter ERROR]\", exec.error)\n",
        "  else:\n",
        "    return exec.results"
      ]
    },
    {
      "cell_type": "code",
      "execution_count": 74,
      "metadata": {
        "id": "_1WPD2mAMjT2"
      },
      "outputs": [],
      "source": [
        "from openai import OpenAI\n",
        "\n",
        "client = OpenAI(api_key=OPENAI_API_KEY)\n",
        "\n",
        "def chat(e2b_code_interpreter, user_message, base64_image = None, ):\n",
        "  print(f\"\\n{'='*50}\\nUser Message: {user_message}\\n{'='*50}\")\n",
        "\n",
        "  messages = [\n",
        "      {\n",
        "          \"role\": \"system\",\n",
        "          \"content\": SYSTEM_PROMPT,\n",
        "      },\n",
        "  ]\n",
        "\n",
        "  if base64_image is not None:\n",
        "    messages.append(\n",
        "        {\n",
        "          \"role\": \"user\",\n",
        "          \"content\": [\n",
        "            {\n",
        "              \"type\": \"text\",\n",
        "              \"text\": user_message,\n",
        "            },\n",
        "            {\n",
        "              \"type\": \"image_url\",\n",
        "              \"image_url\": {\n",
        "                \"url\": f\"data:image/jpeg;base64,{base64_image}\"\n",
        "              }\n",
        "            }\n",
        "          ]\n",
        "        }\n",
        "    )\n",
        "  else:\n",
        "    messages.append(\n",
        "        {\"role\": \"user\", \"content\": user_message},\n",
        "    )\n",
        "\n",
        "  response = client.chat.completions.create(\n",
        "    model=\"gpt-4o\",\n",
        "    messages=messages,\n",
        "    tools=tools,\n",
        "    tool_choice=\"auto\"\n",
        "  )\n",
        "  for choice in response.choices:\n",
        "    if choice.message.tool_calls and len(choice.message.tool_calls) > 0:\n",
        "      for tool_call in choice.message.tool_calls:\n",
        "        if tool_call.function.name == \"execute_python\":\n",
        "          if \"code\" in tool_call.function.arguments:\n",
        "            code = tool_call.function.arguments[\"code\"]\n",
        "          else:\n",
        "            code = tool_call.function.arguments\n",
        "          print(\"CODE TO RUN\")\n",
        "          print(code)\n",
        "          code_interpreter_results = code_interpret(e2b_code_interpreter, code)\n",
        "          return code_interpreter_results\n",
        "    else:\n",
        "      print(\"Answer:\", choice.message.content)\n",
        "\n"
      ]
    },
    {
      "cell_type": "code",
      "execution_count": null,
      "metadata": {
        "id": "e2p2w9UqOX3L"
      },
      "outputs": [],
      "source": [
        "from e2b_code_interpreter import CodeInterpreter\n",
        "code_interpreter = CodeInterpreter(api_key=E2B_API_KEY)\n",
        "\n",
        "# 1. Ask GPT-4o to generate chart\n",
        "code_interpreter_results = chat(\n",
        "  code_interpreter,\n",
        "  \"Plot a chart visualizing the height distribution of men based on the data you know\",\n",
        ")\n",
        "print(code_interpreter_results)\n",
        "plot1 = code_interpreter_results[0]\n",
        "\n",
        "\n",
        "\n",
        "print(plot1.raw)\n",
        "plot1"
      ]
    },
    {
      "cell_type": "code",
      "execution_count": null,
      "metadata": {
        "id": "NBaQLJuuVVBK"
      },
      "outputs": [],
      "source": [
        "# 2. Feed the image back the chart to GPT-4o and ask question about the image\n",
        "image = plot1.png\n",
        "code_interpreter_results = chat(code_interpreter, \"Based on what you see, what's name of this distribution? Show me the distribution function\", image)\n",
        "\n",
        "\n",
        "code_interpreter.close()\n",
        "\n",
        "print(code_interpreter_results)\n",
        "plot2 = code_interpreter_results[0]\n",
        "print(plot2.raw)\n",
        "plot2"
      ]
    }
  ],
  "metadata": {
    "colab": {
      "provenance": []
    },
    "kernelspec": {
      "display_name": "Python 3",
      "name": "python3"
    },
    "language_info": {
      "name": "python"
    }
  },
  "nbformat": 4,
  "nbformat_minor": 0
}
