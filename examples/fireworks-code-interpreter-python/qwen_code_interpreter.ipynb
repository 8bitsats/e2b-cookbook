{
 "cells": [
  {
   "cell_type": "markdown",
   "metadata": {},
   "source": [
    "# Code interpreting with Fireworks\n",
    "This example uses the E2B's [Code Interpreter](https://github.com/e2b-dev/code-interpreter) as a tool for [Firefunction-v2](https://fireworks.ai/models/fireworks/firefunction-v2) by Fireworks.\n",
    "\n",
    "We use the [secure sandbox](https://e2b.dev/docs/sandbox/overview) given by E2B to execute code for accomplishing the task given to the Firefunction-v2.\n",
    ">"
   ]
  },
  {
   "cell_type": "markdown",
   "metadata": {},
   "source": [
    "### 1. Installations\n",
    "First, we install Fireworks, OpenAI, and the E2B Code Interpreter SDK."
   ]
  },
  {
   "cell_type": "code",
   "execution_count": 37,
   "metadata": {},
   "outputs": [
    {
     "name": "stdout",
     "output_type": "stream",
     "text": [
      "Requirement already satisfied: fireworks-ai in /Users/terezatizkova/.pyenv/versions/3.11.7/lib/python3.11/site-packages (0.15.8)\n",
      "Requirement already satisfied: openai in /Users/terezatizkova/.pyenv/versions/3.11.7/lib/python3.11/site-packages (1.54.3)\n",
      "Requirement already satisfied: e2b_code_interpreter==1.0.0 in /Users/terezatizkova/.pyenv/versions/3.11.7/lib/python3.11/site-packages (1.0.0)\n",
      "Requirement already satisfied: python-dotenv==1.0.1 in /Users/terezatizkova/.pyenv/versions/3.11.7/lib/python3.11/site-packages (1.0.1)\n",
      "Requirement already satisfied: attrs>=21.3.0 in /Users/terezatizkova/.pyenv/versions/3.11.7/lib/python3.11/site-packages (from e2b_code_interpreter==1.0.0) (24.2.0)\n",
      "Requirement already satisfied: e2b<2.0.0,>=1.0.0 in /Users/terezatizkova/.pyenv/versions/3.11.7/lib/python3.11/site-packages (from e2b_code_interpreter==1.0.0) (1.0.3)\n",
      "Requirement already satisfied: httpx<0.28.0,>=0.20.0 in /Users/terezatizkova/.pyenv/versions/3.11.7/lib/python3.11/site-packages (from e2b_code_interpreter==1.0.0) (0.27.2)\n",
      "Requirement already satisfied: httpx-ws in /Users/terezatizkova/.pyenv/versions/3.11.7/lib/python3.11/site-packages (from fireworks-ai) (0.6.2)\n",
      "Requirement already satisfied: httpx-sse in /Users/terezatizkova/.pyenv/versions/3.11.7/lib/python3.11/site-packages (from fireworks-ai) (0.4.0)\n",
      "Requirement already satisfied: pydantic in /Users/terezatizkova/.pyenv/versions/3.11.7/lib/python3.11/site-packages (from fireworks-ai) (2.9.2)\n",
      "Requirement already satisfied: Pillow in /Users/terezatizkova/.pyenv/versions/3.11.7/lib/python3.11/site-packages (from fireworks-ai) (11.0.0)\n",
      "Requirement already satisfied: anyio<5,>=3.5.0 in /Users/terezatizkova/.pyenv/versions/3.11.7/lib/python3.11/site-packages (from openai) (4.6.2.post1)\n",
      "Requirement already satisfied: distro<2,>=1.7.0 in /Users/terezatizkova/.pyenv/versions/3.11.7/lib/python3.11/site-packages (from openai) (1.9.0)\n",
      "Requirement already satisfied: jiter<1,>=0.4.0 in /Users/terezatizkova/.pyenv/versions/3.11.7/lib/python3.11/site-packages (from openai) (0.7.0)\n",
      "Requirement already satisfied: sniffio in /Users/terezatizkova/.pyenv/versions/3.11.7/lib/python3.11/site-packages (from openai) (1.3.1)\n",
      "Requirement already satisfied: tqdm>4 in /Users/terezatizkova/.pyenv/versions/3.11.7/lib/python3.11/site-packages (from openai) (4.67.0)\n",
      "Requirement already satisfied: typing-extensions<5,>=4.11 in /Users/terezatizkova/.pyenv/versions/3.11.7/lib/python3.11/site-packages (from openai) (4.12.2)\n",
      "Requirement already satisfied: idna>=2.8 in /Users/terezatizkova/.pyenv/versions/3.11.7/lib/python3.11/site-packages (from anyio<5,>=3.5.0->openai) (3.10)\n",
      "Requirement already satisfied: httpcore<2.0.0,>=1.0.5 in /Users/terezatizkova/.pyenv/versions/3.11.7/lib/python3.11/site-packages (from e2b<2.0.0,>=1.0.0->e2b_code_interpreter==1.0.0) (1.0.6)\n",
      "Requirement already satisfied: packaging>=24.1 in /Users/terezatizkova/.pyenv/versions/3.11.7/lib/python3.11/site-packages (from e2b<2.0.0,>=1.0.0->e2b_code_interpreter==1.0.0) (24.2)\n",
      "Requirement already satisfied: protobuf<6.0.0,>=3.20.0 in /Users/terezatizkova/.pyenv/versions/3.11.7/lib/python3.11/site-packages (from e2b<2.0.0,>=1.0.0->e2b_code_interpreter==1.0.0) (5.28.3)\n",
      "Requirement already satisfied: python-dateutil>=2.8.2 in /Users/terezatizkova/.pyenv/versions/3.11.7/lib/python3.11/site-packages (from e2b<2.0.0,>=1.0.0->e2b_code_interpreter==1.0.0) (2.9.0.post0)\n",
      "Requirement already satisfied: certifi in /Users/terezatizkova/.pyenv/versions/3.11.7/lib/python3.11/site-packages (from httpx<0.28.0,>=0.20.0->e2b_code_interpreter==1.0.0) (2024.8.30)\n",
      "Requirement already satisfied: h11<0.15,>=0.13 in /Users/terezatizkova/.pyenv/versions/3.11.7/lib/python3.11/site-packages (from httpcore<2.0.0,>=1.0.5->e2b<2.0.0,>=1.0.0->e2b_code_interpreter==1.0.0) (0.14.0)\n",
      "Requirement already satisfied: annotated-types>=0.6.0 in /Users/terezatizkova/.pyenv/versions/3.11.7/lib/python3.11/site-packages (from pydantic->fireworks-ai) (0.7.0)\n",
      "Requirement already satisfied: pydantic-core==2.23.4 in /Users/terezatizkova/.pyenv/versions/3.11.7/lib/python3.11/site-packages (from pydantic->fireworks-ai) (2.23.4)\n",
      "Requirement already satisfied: wsproto in /Users/terezatizkova/.pyenv/versions/3.11.7/lib/python3.11/site-packages (from httpx-ws->fireworks-ai) (1.2.0)\n",
      "Requirement already satisfied: six>=1.5 in /Users/terezatizkova/.pyenv/versions/3.11.7/lib/python3.11/site-packages (from python-dateutil>=2.8.2->e2b<2.0.0,>=1.0.0->e2b_code_interpreter==1.0.0) (1.16.0)\n",
      "Note: you may need to restart the kernel to use updated packages.\n"
     ]
    }
   ],
   "source": [
    "%pip install --upgrade fireworks-ai openai e2b_code_interpreter==1.0.0 python-dotenv==1.0.1"
   ]
  },
  {
   "cell_type": "markdown",
   "metadata": {},
   "source": [
    "### 2. Imports and API keys\n",
    "\n",
    "You need to get your API keys and save them in .env file. You can copy and rename the .env.template file. We import all necessary libraries.\n",
    "\n",
    "This is what you should put in the .env file:\n",
    "\n",
    "```sh\n",
    "# TODO: Get your Fireworks API key from https://fireworks.ai/api-keys\n",
    "FIREWORKS_API_KEY = \"your_api_key\"\n",
    "\n",
    "# TODO: Get your E2B API key from https://e2b.dev/docs\n",
    "E2B_API_KEY = \"your_api_key\"\n",
    "```"
   ]
  },
  {
   "cell_type": "code",
   "execution_count": 38,
   "metadata": {},
   "outputs": [],
   "source": [
    "import openai\n",
    "import json\n",
    "import sys\n",
    "import os\n",
    "import re\n",
    "from dotenv import load_dotenv\n",
    "load_dotenv()\n",
    "\n",
    "FIREWORKS_API_KEY = os.getenv(\"FIREWORKS_API_KEY\")\n",
    "E2B_API_KEY = os.getenv(\"E2B_API_KEY\")"
   ]
  },
  {
   "cell_type": "markdown",
   "metadata": {},
   "source": [
    "### 3. Prompts and tools setup\n",
    "\n",
    "Now we specify a system prompt, assigning a role to LLM, and user prompt for the task we want to acomplish.\n",
    "\n",
    "In the ```tools```, we describe the functions available to the agent in great detail in JSON Schema. Here, it's just the ```execute_python``` function, the one that will execute the code generated by the LLM assistant."
   ]
  },
  {
   "cell_type": "code",
   "execution_count": 39,
   "metadata": {},
   "outputs": [],
   "source": [
    "SYSTEM_PROMPT = \"\"\"\n",
    "## your job & context\n",
    "you are a python data scientist. you are given tasks to complete and you run python code to solve them.\n",
    "You DO NOT MAKE SYNTAX MISTAKES OR FORGET ANY IMPORTS\n",
    "- the python code runs in jupyter notebook.\n",
    "- every time you call `execute_python` tool, the python code is executed in a separate cell. it's okay to multiple calls to `execute_python`.\n",
    "- display visualizations using matplotlib or any other visualization library directly in the notebook. don't worry about saving the visualizations to a file.\n",
    "- you have access to the internet and can make api requests.\n",
    "- you also have access to the filesystem and can read/write files.\n",
    "- you can install any pip package (if it exists) if you need to but the usual packages for data analysis are already preinstalled.\n",
    "- you can run any python code you want, everything is running in a secure sandbox environment.\n",
    "\"\"\"\n",
    "\n",
    "# USER_PROMPT = \"Plot a 3D chart of sin x cos y please.\"\n",
    "\n",
    "client = openai.OpenAI(\n",
    "    base_url = \"https://api.fireworks.ai/inference/v1\",\n",
    "    api_key = FIREWORKS_API_KEY\n",
    ")\n",
    "\n",
    "def match_code_blocks(text):\n",
    "    pattern = re.compile(r'```(?:python)?[\\n\\r](.*?)```', re.DOTALL)\n",
    "    return pattern.findall(text)\n",
    "\n",
    "\n",
    "# tools = [\n",
    "#     {\n",
    "#         \"type\": \"function\",\n",
    "#         \"function\": {\n",
    "#             \"name\": \"execute_python\",\n",
    "#             \"description\": \"Execute python code in a Jupyter notebook cell and returns any result, stdout, stderr, display_data, and error.\",\n",
    "#             \"parameters\": {\n",
    "#                 \"type\": \"object\",\n",
    "#                 \"properties\": {\n",
    "#                     \"code\": {\n",
    "#                         \"type\": \"string\",\n",
    "#                         \"description\": \"The python code to execute in a single cell.\",\n",
    "#                     },\n",
    "#                 },\n",
    "#                 \"required\": [\"code\"],\n",
    "#             },\n",
    "#         },\n",
    "#         },\n",
    "# ]"
   ]
  },
  {
   "cell_type": "markdown",
   "metadata": {},
   "source": [
    "### 4. Defining the function for running the AI-generated code\n",
    "\n",
    "We define the `code_interpret` function that uses the [E2B Code Interpreter SDK](https://e2b.dev/docs/quickstart) to run AI-generated Python code.\n",
    "\n",
    "We will use `run_code` to execute the AI-generated code inside the code interpreter sandbox. "
   ]
  },
  {
   "cell_type": "code",
   "execution_count": 40,
   "metadata": {},
   "outputs": [],
   "source": [
    "def code_interpret(e2b_code_interpreter, code):\n",
    "  print(\"Running code interpreter...\")\n",
    "  exec = e2b_code_interpreter.run_code(\n",
    "    code,\n",
    "    # Stream stdout and stderr from the Code Interpreter\n",
    "    on_stdout=lambda stdout: print(\"[Code Interpreter]\", stdout),\n",
    "    on_stderr=lambda stderr: print(\"[Code Interpreter]\", stderr),\n",
    "    # You can also stream code execution results\n",
    "    # on_result=...\n",
    "  )\n",
    "\n",
    "  if exec.error:\n",
    "    print(\"[Code Interpreter ERROR]\", exec.error)\n",
    "  return exec"
   ]
  },
  {
   "cell_type": "markdown",
   "metadata": {},
   "source": [
    "### 5. Getting agent's response\n",
    "\n",
    "Now we define a ```chat``` function that uses the Firefunction-v2 model to get agent's response to the user's task. If the response contains a tool call of `execute_python`, the code interpreter by E2B is used to securely run the code."
   ]
  },
  {
   "cell_type": "code",
   "execution_count": 41,
   "metadata": {},
   "outputs": [],
   "source": [
    "def chat(e2b_code_interpreter, user_message):\n",
    "    print(f\"\\n{'='*50}\\nUser Message: {user_message}\\n{'='*50}\")\n",
    "    \n",
    "    messages = [\n",
    "        {\"role\": \"system\", \"content\": SYSTEM_PROMPT},\n",
    "        {\"role\": \"user\", \"content\": user_message}\n",
    "    ]\n",
    "\n",
    "    response = client.chat.completions.create(\n",
    "        # model=\"accounts/fireworks/models/firefunction-v2\",\n",
    "        model=\"accounts/fireworks/models/qwen2p5-coder-32b-instruct\",\n",
    "        messages=messages,\n",
    "        # tools=tools,\n",
    "        tool_choice=\"auto\"\n",
    "    )\n",
    "\n",
    "    # Extract the assistant's message content\n",
    "    content = response.choices[0].message.content\n",
    "\n",
    "    # # Check for tool calls\n",
    "    # for choice in content.choices:\n",
    "    #     if choice.message.tool_calls and len(choice.message.tool_calls) > 0:\n",
    "    #         for tool_call in choice.message.tool_calls:\n",
    "    #             if tool_call.function.name == \"execute_python\":\n",
    "    #                 if \"code\" in tool_call.function.arguments:\n",
    "    #                     args = json.loads(tool_call.function.arguments)\n",
    "    #                     code = args[\"code\"]          \n",
    "    #                     print(\"CODE TO RUN\")\n",
    "    #                     print(code)\n",
    "    #                     execution_output = code_interpret(e2b_code_interpreter, code)\n",
    "    #                     return execution_output\n",
    "    #     else:\n",
    "    #         print(\"Answer:\", choice.message.content)\n",
    "\n",
    "    # Use the assistant's message content for code extraction\n",
    "    code_results = []\n",
    "    code_blocks = match_code_blocks(content)\n",
    "    for code in code_blocks:\n",
    "        print(f\"Code to run: {code}\")\n",
    "\n",
    "        code_interpreter_results = code_interpret(e2b_code_interpreter, code)\n",
    "        print(f\"Tool Result: {code_interpreter_results}\")\n",
    "        code_results.append(code_interpreter_results)\n",
    "\n",
    "    return code_results"
   ]
  },
  {
   "cell_type": "markdown",
   "metadata": {},
   "source": [
    "### 6. Printing the output\n",
    "\n",
    "Finally we get the task result, calling the ```chat``` function.\n",
    "\n",
    "Read more about how the execution with Code Interpreter SDK looks like [here](https://e2b.dev/docs/code-interpreter/execution)."
   ]
  },
  {
   "cell_type": "code",
   "execution_count": 42,
   "metadata": {},
   "outputs": [
    {
     "name": "stdout",
     "output_type": "stream",
     "text": [
      "\n",
      "==================================================\n",
      "User Message: Plot a 3D chart of sin x cos y please.\n",
      "==================================================\n",
      "Code to run: \n",
      "Next, we will create the \\(x\\) and \\(y\\) grids and compute \\(z\\).\n",
      "\n",
      "Running code interpreter...\n",
      "[Code Interpreter ERROR] ExecutionError(name='SyntaxError', value='unexpected character after line continuation character (548653046.py, line 1)', traceback='  Cell In[1], line 1\\n    Next, we will create the \\\\(x\\\\) and \\\\(y\\\\) grids and compute \\\\(z\\\\).\\n                              ^\\nSyntaxError: unexpected character after line continuation character\\n')\n",
      "Tool Result: Execution(Results: [], Logs: Logs(stdout: [], stderr: []), Error: ExecutionError(name='SyntaxError', value='unexpected character after line continuation character (548653046.py, line 1)', traceback='  Cell In[1], line 1\\n    Next, we will create the \\\\(x\\\\) and \\\\(y\\\\) grids and compute \\\\(z\\\\).\\n                              ^\\nSyntaxError: unexpected character after line continuation character\\n'))\n",
      "Code to run: \n",
      "Now, we will plot the surface.\n",
      "\n",
      "Running code interpreter...\n",
      "[Code Interpreter ERROR] ExecutionError(name='SyntaxError', value='invalid syntax (2725127368.py, line 1)', traceback='  Cell In[2], line 1\\n    Now, we will plot the surface.\\n            ^\\nSyntaxError: invalid syntax\\n')\n",
      "Tool Result: Execution(Results: [], Logs: Logs(stdout: [], stderr: []), Error: ExecutionError(name='SyntaxError', value='invalid syntax (2725127368.py, line 1)', traceback='  Cell In[2], line 1\\n    Now, we will plot the surface.\\n            ^\\nSyntaxError: invalid syntax\\n'))\n",
      "[Execution Error]: ExecutionError(name='SyntaxError', value='unexpected character after line continuation character (548653046.py, line 1)', traceback='  Cell In[1], line 1\\n    Next, we will create the \\\\(x\\\\) and \\\\(y\\\\) grids and compute \\\\(z\\\\).\\n                              ^\\nSyntaxError: unexpected character after line continuation character\\n')\n",
      "[Execution Error]: ExecutionError(name='SyntaxError', value='invalid syntax (2725127368.py, line 1)', traceback='  Cell In[2], line 1\\n    Now, we will plot the surface.\\n            ^\\nSyntaxError: invalid syntax\\n')\n"
     ]
    },
    {
     "ename": "TypeError",
     "evalue": "'Execution' object is not subscriptable",
     "output_type": "error",
     "traceback": [
      "\u001b[0;31m---------------------------------------------------------------------------\u001b[0m",
      "\u001b[0;31mTypeError\u001b[0m                                 Traceback (most recent call last)",
      "Cell \u001b[0;32mIn[42], line 21\u001b[0m\n\u001b[1;32m     18\u001b[0m            \u001b[38;5;28mprint\u001b[39m(\u001b[38;5;124m\"\u001b[39m\u001b[38;5;124mNo output available.\u001b[39m\u001b[38;5;124m\"\u001b[39m)\n\u001b[1;32m     20\u001b[0m \u001b[38;5;66;03m# Each code block can have multiple code interpreter results\u001b[39;00m\n\u001b[0;32m---> 21\u001b[0m first_result \u001b[38;5;241m=\u001b[39m \u001b[43mall_code_blocks_results\u001b[49m\u001b[43m[\u001b[49m\u001b[38;5;241;43m0\u001b[39;49m\u001b[43m]\u001b[49m\u001b[43m[\u001b[49m\u001b[38;5;241;43m0\u001b[39;49m\u001b[43m]\u001b[49m\n\u001b[1;32m     23\u001b[0m \u001b[38;5;66;03m# This will render the image\u001b[39;00m\n\u001b[1;32m     24\u001b[0m \u001b[38;5;66;03m# You can also access the data directly\u001b[39;00m\n\u001b[1;32m     25\u001b[0m \u001b[38;5;66;03m# first_result.png\u001b[39;00m\n\u001b[1;32m     26\u001b[0m \u001b[38;5;66;03m# first_result.jpg\u001b[39;00m\n\u001b[1;32m     27\u001b[0m \u001b[38;5;66;03m# first_result.pdf\u001b[39;00m\n\u001b[1;32m     28\u001b[0m \u001b[38;5;66;03m# ...\u001b[39;00m\n\u001b[1;32m     29\u001b[0m first_result\n",
      "\u001b[0;31mTypeError\u001b[0m: 'Execution' object is not subscriptable"
     ]
    }
   ],
   "source": [
    "from e2b_code_interpreter import Sandbox\n",
    "\n",
    "with Sandbox(api_key=E2B_API_KEY) as code_interpreter:\n",
    "  execution_output = chat(\n",
    "    code_interpreter,\n",
    "    \"Plot a 3D chart of sin x cos y please.\",\n",
    "  )\n",
    "\n",
    "  if execution_output == None:\n",
    "    print(\"No output from the code interpreter. Did the LLM generate any code?\")\n",
    "    sys.exit(1)\n",
    "\n",
    "  # Access stdout\n",
    "  print(\"Stdout:\", execution_output.logs.stdout)\n",
    "  # Access stderr\n",
    "  print(\"Stderr:\", execution_output.logs.stderr)\n",
    "\n",
    "  # Access any runtime errors\n",
    "  print(\"AI-generated Python runtime error:\", execution_output.error)\n",
    "\n",
    "  # Access any results of code execution - charts, interpreter last line, images, etc.\n",
    "  print(\"Results:\", execution_output.results)\n",
    "  if len(execution_output.results) == 0:\n",
    "    sys.exit(0)\n",
    "\n",
    "execution_output.results[0]"
   ]
  }
 ],
 "metadata": {
  "kernelspec": {
   "display_name": "Python 3",
   "language": "python",
   "name": "python3"
  },
  "language_info": {
   "codemirror_mode": {
    "name": "ipython",
    "version": 3
   },
   "file_extension": ".py",
   "mimetype": "text/x-python",
   "name": "python",
   "nbconvert_exporter": "python",
   "pygments_lexer": "ipython3",
   "version": "3.11.7"
  }
 },
 "nbformat": 4,
 "nbformat_minor": 2
}
