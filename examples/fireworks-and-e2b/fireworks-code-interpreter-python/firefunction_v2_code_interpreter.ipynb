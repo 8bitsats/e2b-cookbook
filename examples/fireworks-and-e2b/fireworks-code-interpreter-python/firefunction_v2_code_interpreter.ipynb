{
 "cells": [
  {
   "cell_type": "markdown",
   "metadata": {},
   "source": [
    "# Code interpreting with Fireworks\n",
    "This example uses the E2B's [Code Interpreter](https://github.com/e2b-dev/code-interpreter) as a tool for [Firefunction-v2](https://fireworks.ai/models/fireworks/firefunction-v2) by Fireworks.\n",
    "\n",
    "We use the [secure sandbox](https://e2b.dev/docs/sandbox/overview) given by E2B to execute code for accomplishing the task given to the Firefunction-v2.\n",
    ">"
   ]
  },
  {
   "cell_type": "markdown",
   "metadata": {},
   "source": [
    "### 1. Installations\n",
    "First, we install Fireworks, OpenAI, and the E2B Code Interpreter SDK."
   ]
  },
  {
   "cell_type": "code",
   "execution_count": 1,
   "metadata": {},
   "outputs": [
    {
     "name": "stdout",
     "output_type": "stream",
     "text": [
      "Requirement already satisfied: fireworks-ai in /Library/Frameworks/Python.framework/Versions/3.11/lib/python3.11/site-packages (0.14.0)\n",
      "Collecting fireworks-ai\n",
      "  Downloading fireworks_ai-0.15.3-py3-none-any.whl.metadata (5.3 kB)\n",
      "Requirement already satisfied: openai in /Library/Frameworks/Python.framework/Versions/3.11/lib/python3.11/site-packages (1.45.0)\n",
      "Collecting openai\n",
      "  Downloading openai-1.51.0-py3-none-any.whl.metadata (24 kB)\n",
      "Requirement already satisfied: e2b_code_interpreter in /Library/Frameworks/Python.framework/Versions/3.11/lib/python3.11/site-packages (0.0.10)\n",
      "Requirement already satisfied: httpx in /Library/Frameworks/Python.framework/Versions/3.11/lib/python3.11/site-packages (from fireworks-ai) (0.27.0)\n",
      "Requirement already satisfied: httpx-sse in /Library/Frameworks/Python.framework/Versions/3.11/lib/python3.11/site-packages (from fireworks-ai) (0.4.0)\n",
      "Requirement already satisfied: pydantic in /Library/Frameworks/Python.framework/Versions/3.11/lib/python3.11/site-packages (from fireworks-ai) (2.9.1)\n",
      "Requirement already satisfied: Pillow in /Library/Frameworks/Python.framework/Versions/3.11/lib/python3.11/site-packages (from fireworks-ai) (10.4.0)\n",
      "Requirement already satisfied: anyio<5,>=3.5.0 in /Library/Frameworks/Python.framework/Versions/3.11/lib/python3.11/site-packages (from openai) (3.7.1)\n",
      "Requirement already satisfied: distro<2,>=1.7.0 in /Library/Frameworks/Python.framework/Versions/3.11/lib/python3.11/site-packages (from openai) (1.8.0)\n",
      "Requirement already satisfied: jiter<1,>=0.4.0 in /Library/Frameworks/Python.framework/Versions/3.11/lib/python3.11/site-packages (from openai) (0.4.1)\n",
      "Requirement already satisfied: sniffio in /Library/Frameworks/Python.framework/Versions/3.11/lib/python3.11/site-packages (from openai) (1.3.0)\n",
      "Requirement already satisfied: tqdm>4 in /Library/Frameworks/Python.framework/Versions/3.11/lib/python3.11/site-packages (from openai) (4.66.2)\n",
      "Requirement already satisfied: typing-extensions<5,>=4.11 in /Library/Frameworks/Python.framework/Versions/3.11/lib/python3.11/site-packages (from openai) (4.12.2)\n",
      "Requirement already satisfied: e2b>=0.17.1 in /Library/Frameworks/Python.framework/Versions/3.11/lib/python3.11/site-packages (from e2b_code_interpreter) (0.17.2a60)\n",
      "Requirement already satisfied: websocket-client<2.0.0,>=1.7.0 in /Library/Frameworks/Python.framework/Versions/3.11/lib/python3.11/site-packages (from e2b_code_interpreter) (1.7.0)\n",
      "Requirement already satisfied: idna>=2.8 in /Library/Frameworks/Python.framework/Versions/3.11/lib/python3.11/site-packages (from anyio<5,>=3.5.0->openai) (3.6)\n",
      "Requirement already satisfied: attrs<24.0.0,>=23.2.0 in /Library/Frameworks/Python.framework/Versions/3.11/lib/python3.11/site-packages (from e2b>=0.17.1->e2b_code_interpreter) (23.2.0)\n",
      "Requirement already satisfied: httpcore<2.0.0,>=1.0.5 in /Library/Frameworks/Python.framework/Versions/3.11/lib/python3.11/site-packages (from e2b>=0.17.1->e2b_code_interpreter) (1.0.5)\n",
      "Collecting packaging<25.0,>=24.1 (from e2b>=0.17.1->e2b_code_interpreter)\n",
      "  Using cached packaging-24.1-py3-none-any.whl.metadata (3.2 kB)\n",
      "Requirement already satisfied: protobuf<6.0.0,>=3.20.0 in /Library/Frameworks/Python.framework/Versions/3.11/lib/python3.11/site-packages (from e2b>=0.17.1->e2b_code_interpreter) (4.24.3)\n",
      "Requirement already satisfied: python-dateutil>=2.8.2 in /Library/Frameworks/Python.framework/Versions/3.11/lib/python3.11/site-packages (from e2b>=0.17.1->e2b_code_interpreter) (2.8.2)\n",
      "Requirement already satisfied: certifi in /Library/Frameworks/Python.framework/Versions/3.11/lib/python3.11/site-packages (from httpx->fireworks-ai) (2024.8.30)\n",
      "Requirement already satisfied: h11<0.15,>=0.13 in /Library/Frameworks/Python.framework/Versions/3.11/lib/python3.11/site-packages (from httpcore<2.0.0,>=1.0.5->e2b>=0.17.1->e2b_code_interpreter) (0.14.0)\n",
      "Requirement already satisfied: annotated-types>=0.6.0 in /Library/Frameworks/Python.framework/Versions/3.11/lib/python3.11/site-packages (from pydantic->fireworks-ai) (0.7.0)\n",
      "Requirement already satisfied: pydantic-core==2.23.3 in /Library/Frameworks/Python.framework/Versions/3.11/lib/python3.11/site-packages (from pydantic->fireworks-ai) (2.23.3)\n",
      "Requirement already satisfied: six>=1.5 in /Library/Frameworks/Python.framework/Versions/3.11/lib/python3.11/site-packages (from python-dateutil>=2.8.2->e2b>=0.17.1->e2b_code_interpreter) (1.16.0)\n",
      "Downloading fireworks_ai-0.15.3-py3-none-any.whl (91 kB)\n",
      "Downloading openai-1.51.0-py3-none-any.whl (383 kB)\n",
      "Using cached packaging-24.1-py3-none-any.whl (53 kB)\n",
      "Installing collected packages: packaging, openai, fireworks-ai\n",
      "  Attempting uninstall: packaging\n",
      "    Found existing installation: packaging 23.2\n",
      "    Uninstalling packaging-23.2:\n",
      "      Successfully uninstalled packaging-23.2\n",
      "  Attempting uninstall: openai\n",
      "    Found existing installation: openai 1.45.0\n",
      "    Uninstalling openai-1.45.0:\n",
      "      Successfully uninstalled openai-1.45.0\n",
      "  Attempting uninstall: fireworks-ai\n",
      "    Found existing installation: fireworks-ai 0.14.0\n",
      "    Uninstalling fireworks-ai-0.14.0:\n",
      "      Successfully uninstalled fireworks-ai-0.14.0\n",
      "\u001b[31mERROR: pip's dependency resolver does not currently take into account all the packages that are installed. This behaviour is the source of the following dependency conflicts.\n",
      "langchain-core 0.2.5 requires packaging<24.0,>=23.2, but you have packaging 24.1 which is incompatible.\n",
      "langchain-community 0.0.19 requires langchain-core<0.2,>=0.1.21, but you have langchain-core 0.2.5 which is incompatible.\n",
      "langchain-community 0.0.19 requires langsmith<0.1,>=0.0.83, but you have langsmith 0.1.77 which is incompatible.\n",
      "poetry 1.7.1 requires platformdirs<4.0.0,>=3.0.0, but you have platformdirs 4.2.0 which is incompatible.\n",
      "spacy 3.6.0 requires pydantic!=1.8,!=1.8.1,<1.11.0,>=1.7.4, but you have pydantic 2.9.1 which is incompatible.\n",
      "crewai 0.1.32 requires langchain<0.2.0,>=0.1.0, but you have langchain 0.2.3 which is incompatible.\n",
      "crewai 0.1.32 requires langchain-openai<0.0.3,>=0.0.2, but you have langchain-openai 0.1.8 which is incompatible.\n",
      "tensorflow-macos 2.13.0 requires numpy<=1.24.3,>=1.22, but you have numpy 1.26.4 which is incompatible.\n",
      "tensorflow-macos 2.13.0 requires typing-extensions<4.6.0,>=3.6.6, but you have typing-extensions 4.12.2 which is incompatible.\n",
      "unstructured 0.12.6 requires certifi==2024.2.2, but you have certifi 2024.8.30 which is incompatible.\n",
      "unstructured 0.12.6 requires nltk==3.8.1, but you have nltk 3.9.1 which is incompatible.\n",
      "unstructured 0.12.6 requires packaging==23.2, but you have packaging 24.1 which is incompatible.\n",
      "unstructured 0.12.6 requires typing-extensions==4.9.0, but you have typing-extensions 4.12.2 which is incompatible.\n",
      "unstructured 0.12.6 requires urllib3==1.26.18, but you have urllib3 2.2.1 which is incompatible.\n",
      "open-interpreter 0.2.2 requires tiktoken<0.6.0,>=0.5.2, but you have tiktoken 0.7.0 which is incompatible.\n",
      "thinc 8.1.10 requires pydantic!=1.8,!=1.8.1,<1.11.0,>=1.7.4, but you have pydantic 2.9.1 which is incompatible.\n",
      "agentops 0.3.12 requires packaging==23.2, but you have packaging 24.1 which is incompatible.\u001b[0m\u001b[31m\n",
      "\u001b[0mSuccessfully installed fireworks-ai-0.15.3 openai-1.51.0 packaging-24.1\n",
      "Note: you may need to restart the kernel to use updated packages.\n"
     ]
    }
   ],
   "source": [
    "%pip install --upgrade fireworks-ai openai e2b_code_interpreter"
   ]
  },
  {
   "cell_type": "markdown",
   "metadata": {},
   "source": [
    "### 2. Imports and API keys\n",
    "\n",
    "You need to get your API keys and save them in .env file. You can copy and rename the .env.template file. We import all necessary libraries.\n",
    "\n",
    "This is what you should put in the .env file:\n",
    "\n",
    "```sh\n",
    "# TODO: Get your Fireworks API key from https://fireworks.ai/api-keys\n",
    "FIREWORKS_API_KEY = \"your_api_key\"\n",
    "\n",
    "# TODO: Get your E2B API key from https://e2b.dev/docs\n",
    "E2B_API_KEY = \"your_api_key\"\n",
    "```"
   ]
  },
  {
   "cell_type": "code",
   "execution_count": 2,
   "metadata": {},
   "outputs": [],
   "source": [
    "import openai\n",
    "import json\n",
    "import sys\n",
    "import os\n",
    "from dotenv import load_dotenv\n",
    "load_dotenv()\n",
    "\n",
    "FIREWORKS_API_KEY = os.getenv(\"FIREWORKS_API_KEY\")\n",
    "E2B_API_KEY = os.getenv(\"E2B_API_KEY\")"
   ]
  },
  {
   "cell_type": "markdown",
   "metadata": {},
   "source": [
    "### 3. Prompts and tools setup\n",
    "\n",
    "Now we specify a system prompt, assigning a role to LLM, and user prompt for the task we want to acomplish.\n",
    "\n",
    "In the ```tools```, we describe the functions available to the agent in great detail in JSON Schema. Here, it's just the ```execute_python``` function, the one that will execute the code generated by the LLM assistant."
   ]
  },
  {
   "cell_type": "code",
   "execution_count": 3,
   "metadata": {},
   "outputs": [],
   "source": [
    "SYSTEM_PROMPT = \"\"\"\n",
    "## your job & context\n",
    "you are a python data scientist. you are given tasks to complete and you run python code to solve them.\n",
    "You DO NOT MAKE SYNTAX MISTAKES OR FORGET ANY IMPORTS\n",
    "- the python code runs in jupyter notebook.\n",
    "- every time you call `execute_python` tool, the python code is executed in a separate cell. it's okay to multiple calls to `execute_python`.\n",
    "- display visualizations using matplotlib or any other visualization library directly in the notebook. don't worry about saving the visualizations to a file.\n",
    "- you have access to the internet and can make api requests.\n",
    "- you also have access to the filesystem and can read/write files.\n",
    "- you can install any pip package (if it exists) if you need to but the usual packages for data analysis are already preinstalled.\n",
    "- you can run any python code you want, everything is running in a secure sandbox environment.\n",
    "\"\"\"\n",
    "\n",
    "USER_PROMPT = \"Plot a 3D chart of sin x cos y please.\"\n",
    "\n",
    "client = openai.OpenAI(\n",
    "    base_url = \"https://api.fireworks.ai/inference/v1\",\n",
    "    api_key = FIREWORKS_API_KEY\n",
    ")\n",
    "\n",
    "tools = [\n",
    "    {\n",
    "        \"type\": \"function\",\n",
    "        \"function\": {\n",
    "            \"name\": \"execute_python\",\n",
    "            \"description\": \"Execute python code in a Jupyter notebook cell and returns any result, stdout, stderr, display_data, and error.\",\n",
    "            \"parameters\": {\n",
    "                \"type\": \"object\",\n",
    "                \"properties\": {\n",
    "                    \"code\": {\n",
    "                        \"type\": \"string\",\n",
    "                        \"description\": \"The python code to execute in a single cell.\",\n",
    "                    },\n",
    "                },\n",
    "                \"required\": [\"code\"],\n",
    "            },\n",
    "        },\n",
    "        },\n",
    "]"
   ]
  },
  {
   "cell_type": "markdown",
   "metadata": {},
   "source": [
    "### 4. Defining the function for running the AI-generated code\n",
    "\n",
    "We define the `code_interpret` function that uses the [E2B Code Interpreter SDK](https://e2b.dev/docs/code-interpreter/installation) to run AI-generated Python code.\n",
    "\n",
    "We will use `exec_cell` to execute the AI-generated code inside the code interpreter sandbox.\n",
    "\n",
    "Learn more about the `exec_cell` method [here](https://e2b.dev/docs/code-interpreter/execution)."
   ]
  },
  {
   "cell_type": "code",
   "execution_count": 4,
   "metadata": {},
   "outputs": [],
   "source": [
    "def code_interpret(e2b_code_interpreter, code):\n",
    "  print(\"Running code interpreter...\")\n",
    "  exec = e2b_code_interpreter.notebook.exec_cell(\n",
    "    code,\n",
    "    # Stream stdout and stderr from the Code Interpreter\n",
    "    on_stdout=lambda stdout: print(\"[Code Interpreter]\", stdout),\n",
    "    on_stderr=lambda stderr: print(\"[Code Interpreter]\", stderr),\n",
    "    # You can also stream code execution results\n",
    "    # on_result=...\n",
    "  )\n",
    "\n",
    "  if exec.error:\n",
    "    print(\"[Code Interpreter ERROR]\", exec.error)\n",
    "  else:\n",
    "    return exec"
   ]
  },
  {
   "cell_type": "markdown",
   "metadata": {},
   "source": [
    "### 5. Getting agent's response\n",
    "\n",
    "Now we define a ```chat``` function that uses the Firefunction-v2 model to get agent's response to the user's task. If the response contains a tool call of `execute_python`, the code interpreter by E2B is used to securely run the code."
   ]
  },
  {
   "cell_type": "code",
   "execution_count": 5,
   "metadata": {},
   "outputs": [],
   "source": [
    "def chat(e2b_code_interpreter, user_message):\n",
    "  print(f\"\\n{'='*50}\\nUser Message: {user_message}\\n{'='*50}\")\n",
    "  \n",
    "  messages = [\n",
    "    {\"role\": \"system\", \"content\": SYSTEM_PROMPT},\n",
    "    {\"role\": \"user\", \"content\": user_message}\n",
    "  ]\n",
    "\n",
    "  response = client.chat.completions.create(\n",
    "    model = \"accounts/fireworks/models/firefunction-v2\",\n",
    "    messages=messages,\n",
    "    tools=tools,\n",
    "    tool_choice=\"auto\"\n",
    "  )\n",
    "  for choice in response.choices:\n",
    "    if choice.message.tool_calls and len(choice.message.tool_calls) > 0:\n",
    "      for tool_call in choice.message.tool_calls:\n",
    "        if tool_call.function.name == \"execute_python\":\n",
    "          if \"code\" in tool_call.function.arguments:\n",
    "            args = json.loads(tool_call.function.arguments)\n",
    "            code = args[\"code\"]          \n",
    "            print(\"CODE TO RUN\")\n",
    "            print(code)\n",
    "            execution_output = code_interpret(e2b_code_interpreter, code)\n",
    "            return execution_output\n",
    "    else:\n",
    "      print(\"Answer:\", choice.message.content)\n"
   ]
  },
  {
   "cell_type": "markdown",
   "metadata": {},
   "source": [
    "### 6. Printing the output\n",
    "\n",
    "Finally we get the task result, calling the ```chat``` function.\n",
    "\n",
    "Read more about how the execution with Code Interpreter SDK looks like [here](https://e2b.dev/docs/code-interpreter/execution)."
   ]
  },
  {
   "cell_type": "code",
   "execution_count": 6,
   "metadata": {},
   "outputs": [
    {
     "ename": "ImportError",
     "evalue": "cannot import name 'EnvVars' from 'e2b' (/Library/Frameworks/Python.framework/Versions/3.11/lib/python3.11/site-packages/e2b/__init__.py)",
     "output_type": "error",
     "traceback": [
      "\u001b[0;31m---------------------------------------------------------------------------\u001b[0m",
      "\u001b[0;31mImportError\u001b[0m                               Traceback (most recent call last)",
      "Cell \u001b[0;32mIn[6], line 1\u001b[0m\n\u001b[0;32m----> 1\u001b[0m \u001b[38;5;28;01mfrom\u001b[39;00m \u001b[38;5;21;01me2b_code_interpreter\u001b[39;00m \u001b[38;5;28;01mimport\u001b[39;00m CodeInterpreter\n\u001b[1;32m      3\u001b[0m \u001b[38;5;28;01mwith\u001b[39;00m CodeInterpreter(api_key\u001b[38;5;241m=\u001b[39mE2B_API_KEY) \u001b[38;5;28;01mas\u001b[39;00m code_interpreter:\n\u001b[1;32m      4\u001b[0m   execution_output \u001b[38;5;241m=\u001b[39m chat(\n\u001b[1;32m      5\u001b[0m     code_interpreter,\n\u001b[1;32m      6\u001b[0m     USER_PROMPT,\n\u001b[1;32m      7\u001b[0m   )\n",
      "File \u001b[0;32m/Library/Frameworks/Python.framework/Versions/3.11/lib/python3.11/site-packages/e2b_code_interpreter/__init__.py:3\u001b[0m\n\u001b[1;32m      1\u001b[0m \u001b[38;5;28;01mfrom\u001b[39;00m \u001b[38;5;21;01me2b\u001b[39;00m \u001b[38;5;28;01mimport\u001b[39;00m \u001b[38;5;241m*\u001b[39m\n\u001b[0;32m----> 3\u001b[0m \u001b[38;5;28;01mfrom\u001b[39;00m \u001b[38;5;21;01m.\u001b[39;00m\u001b[38;5;21;01mmain\u001b[39;00m \u001b[38;5;28;01mimport\u001b[39;00m CodeInterpreter, JupyterExtension\n\u001b[1;32m      4\u001b[0m \u001b[38;5;28;01mfrom\u001b[39;00m \u001b[38;5;21;01m.\u001b[39;00m\u001b[38;5;21;01mmodels\u001b[39;00m \u001b[38;5;28;01mimport\u001b[39;00m Execution, Error, Result, KernelException, MIMEType, Logs\n",
      "File \u001b[0;32m/Library/Frameworks/Python.framework/Versions/3.11/lib/python3.11/site-packages/e2b_code_interpreter/main.py:12\u001b[0m\n\u001b[1;32m      9\u001b[0m \u001b[38;5;28;01mfrom\u001b[39;00m \u001b[38;5;21;01mconcurrent\u001b[39;00m\u001b[38;5;21;01m.\u001b[39;00m\u001b[38;5;21;01mfutures\u001b[39;00m \u001b[38;5;28;01mimport\u001b[39;00m Future\n\u001b[1;32m     10\u001b[0m \u001b[38;5;28;01mfrom\u001b[39;00m \u001b[38;5;21;01mtyping\u001b[39;00m \u001b[38;5;28;01mimport\u001b[39;00m Any, Callable, List, Optional, Dict\n\u001b[0;32m---> 12\u001b[0m \u001b[38;5;28;01mfrom\u001b[39;00m \u001b[38;5;21;01me2b\u001b[39;00m \u001b[38;5;28;01mimport\u001b[39;00m EnvVars, ProcessMessage, Sandbox\n\u001b[1;32m     13\u001b[0m \u001b[38;5;28;01mfrom\u001b[39;00m \u001b[38;5;21;01me2b\u001b[39;00m\u001b[38;5;21;01m.\u001b[39;00m\u001b[38;5;21;01mconstants\u001b[39;00m \u001b[38;5;28;01mimport\u001b[39;00m TIMEOUT\n\u001b[1;32m     15\u001b[0m \u001b[38;5;28;01mfrom\u001b[39;00m \u001b[38;5;21;01me2b_code_interpreter\u001b[39;00m\u001b[38;5;21;01m.\u001b[39;00m\u001b[38;5;21;01mmessaging\u001b[39;00m \u001b[38;5;28;01mimport\u001b[39;00m JupyterKernelWebSocket\n",
      "\u001b[0;31mImportError\u001b[0m: cannot import name 'EnvVars' from 'e2b' (/Library/Frameworks/Python.framework/Versions/3.11/lib/python3.11/site-packages/e2b/__init__.py)"
     ]
    }
   ],
   "source": [
    "from e2b_code_interpreter import CodeInterpreter\n",
    "\n",
    "with CodeInterpreter(api_key=E2B_API_KEY) as code_interpreter:\n",
    "  execution_output = chat(\n",
    "    code_interpreter,\n",
    "    USER_PROMPT,\n",
    "  )\n",
    "\n",
    "  if execution_output == None:\n",
    "    print(\"No output from the code interpreter. Did the LLM generate any code?\")\n",
    "    sys.exit(1)\n",
    "\n",
    "  # Access stdout\n",
    "  print(\"Stdout:\", execution_output.logs.stdout)\n",
    "  # Access stderr\n",
    "  print(\"Stderr:\", execution_output.logs.stderr)\n",
    "\n",
    "  # Access any runtime errors\n",
    "  print(\"AI-generated Python runtime error:\", execution_output.error)\n",
    "\n",
    "  # Access any results of code execution - charts, interpreter last line, images, etc.\n",
    "  print(\"Results:\", execution_output.results)\n",
    "  if len(execution_output.results) == 0:\n",
    "    sys.exit(0)\n",
    "\n",
    "execution_output.results[0]"
   ]
  }
 ],
 "metadata": {
  "kernelspec": {
   "display_name": "Python 3",
   "language": "python",
   "name": "python3"
  },
  "language_info": {
   "codemirror_mode": {
    "name": "ipython",
    "version": 3
   },
   "file_extension": ".py",
   "mimetype": "text/x-python",
   "name": "python",
   "nbconvert_exporter": "python",
   "pygments_lexer": "ipython3",
   "version": "3.11.4"
  }
 },
 "nbformat": 4,
 "nbformat_minor": 2
}
