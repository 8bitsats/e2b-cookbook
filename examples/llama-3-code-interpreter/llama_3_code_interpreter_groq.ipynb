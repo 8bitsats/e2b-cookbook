{
  "cells": [
    {
      "cell_type": "markdown",
      "metadata": {
        "id": "sgJos9SJNkht"
      },
      "source": [
        "# Llama 3 on Groq + E2B Code interpreter        \n",
        "**Powered by open-source [Code Interpreter SDK](https://github.com/e2b-dev/code-interpreter) by [E2B](https://e2b.dev/docs)**\n",
        "\n",
        "E2B's code interpreter SDK quickly creates a secure cloud sandbox powered by [Firecracker](https://github.com/firecracker-microvm/firecracker).\n",
        "\n",
        "Inside this sandbox is a running Jupyter server that the LLM can use."
      ]
    },
    {
      "cell_type": "code",
      "execution_count": 1,
      "metadata": {
        "colab": {
          "base_uri": "https://localhost:8080/"
        },
        "id": "OLxqUGV5_wnv",
        "outputId": "747fa528-427e-4b77-d273-c4cff87ba140"
      },
      "outputs": [
        {
          "name": "stdout",
          "output_type": "stream",
          "text": [
            "Collecting groq\n",
            "  Downloading groq-0.5.0-py3-none-any.whl (75 kB)\n",
            "\u001b[2K     \u001b[90m━━━━━━━━━━━━━━━━━━━━━━━━━━━━━━━━━━━━━━━━\u001b[0m \u001b[32m75.0/75.0 kB\u001b[0m \u001b[31m1.3 MB/s\u001b[0m eta \u001b[36m0:00:00\u001b[0m\n",
            "\u001b[?25hCollecting e2b_code_interpreter\n",
            "  Downloading e2b_code_interpreter-0.0.3-py3-none-any.whl (10.0 kB)\n",
            "Requirement already satisfied: anyio<5,>=3.5.0 in /usr/local/lib/python3.10/dist-packages (from groq) (3.7.1)\n",
            "Requirement already satisfied: distro<2,>=1.7.0 in /usr/lib/python3/dist-packages (from groq) (1.7.0)\n",
            "Collecting httpx<1,>=0.23.0 (from groq)\n",
            "  Downloading httpx-0.27.0-py3-none-any.whl (75 kB)\n",
            "\u001b[2K     \u001b[90m━━━━━━━━━━━━━━━━━━━━━━━━━━━━━━━━━━━━━━━━\u001b[0m \u001b[32m75.6/75.6 kB\u001b[0m \u001b[31m4.2 MB/s\u001b[0m eta \u001b[36m0:00:00\u001b[0m\n",
            "\u001b[?25hRequirement already satisfied: pydantic<3,>=1.9.0 in /usr/local/lib/python3.10/dist-packages (from groq) (2.7.0)\n",
            "Requirement already satisfied: sniffio in /usr/local/lib/python3.10/dist-packages (from groq) (1.3.1)\n",
            "Requirement already satisfied: typing-extensions<5,>=4.7 in /usr/local/lib/python3.10/dist-packages (from groq) (4.11.0)\n",
            "Collecting e2b>=0.14.11 (from e2b_code_interpreter)\n",
            "  Downloading e2b-0.14.14-py3-none-any.whl (100 kB)\n",
            "\u001b[2K     \u001b[90m━━━━━━━━━━━━━━━━━━━━━━━━━━━━━━━━━━━━━━━━\u001b[0m \u001b[32m100.3/100.3 kB\u001b[0m \u001b[31m5.1 MB/s\u001b[0m eta \u001b[36m0:00:00\u001b[0m\n",
            "\u001b[?25hRequirement already satisfied: websocket-client<2.0.0,>=1.7.0 in /usr/local/lib/python3.10/dist-packages (from e2b_code_interpreter) (1.7.0)\n",
            "Requirement already satisfied: idna>=2.8 in /usr/local/lib/python3.10/dist-packages (from anyio<5,>=3.5.0->groq) (3.7)\n",
            "Requirement already satisfied: exceptiongroup in /usr/local/lib/python3.10/dist-packages (from anyio<5,>=3.5.0->groq) (1.2.0)\n",
            "Collecting aenum>=3.1.11 (from e2b>=0.14.11->e2b_code_interpreter)\n",
            "  Downloading aenum-3.1.15-py3-none-any.whl (137 kB)\n",
            "\u001b[2K     \u001b[90m━━━━━━━━━━━━━━━━━━━━━━━━━━━━━━━━━━━━━━━━\u001b[0m \u001b[32m137.6/137.6 kB\u001b[0m \u001b[31m10.2 MB/s\u001b[0m eta \u001b[36m0:00:00\u001b[0m\n",
            "\u001b[?25hRequirement already satisfied: aiohttp>=3.8.4 in /usr/local/lib/python3.10/dist-packages (from e2b>=0.14.11->e2b_code_interpreter) (3.9.5)\n",
            "Collecting jsonrpcclient>=4.0.3 (from e2b>=0.14.11->e2b_code_interpreter)\n",
            "  Downloading jsonrpcclient-4.0.3-py3-none-any.whl (7.0 kB)\n",
            "Requirement already satisfied: python-dateutil>=2.8.2 in /usr/local/lib/python3.10/dist-packages (from e2b>=0.14.11->e2b_code_interpreter) (2.8.2)\n",
            "Requirement already satisfied: requests>=2.31.0 in /usr/local/lib/python3.10/dist-packages (from e2b>=0.14.11->e2b_code_interpreter) (2.31.0)\n",
            "Requirement already satisfied: urllib3>=1.25.3 in /usr/local/lib/python3.10/dist-packages (from e2b>=0.14.11->e2b_code_interpreter) (2.0.7)\n",
            "Collecting websockets>=11.0.3 (from e2b>=0.14.11->e2b_code_interpreter)\n",
            "  Downloading websockets-12.0-cp310-cp310-manylinux_2_5_x86_64.manylinux1_x86_64.manylinux_2_17_x86_64.manylinux2014_x86_64.whl (130 kB)\n",
            "\u001b[2K     \u001b[90m━━━━━━━━━━━━━━━━━━━━━━━━━━━━━━━━━━━━━━━━\u001b[0m \u001b[32m130.2/130.2 kB\u001b[0m \u001b[31m7.6 MB/s\u001b[0m eta \u001b[36m0:00:00\u001b[0m\n",
            "\u001b[?25hRequirement already satisfied: certifi in /usr/local/lib/python3.10/dist-packages (from httpx<1,>=0.23.0->groq) (2024.2.2)\n",
            "Collecting httpcore==1.* (from httpx<1,>=0.23.0->groq)\n",
            "  Downloading httpcore-1.0.5-py3-none-any.whl (77 kB)\n",
            "\u001b[2K     \u001b[90m━━━━━━━━━━━━━━━━━━━━━━━━━━━━━━━━━━━━━━━━\u001b[0m \u001b[32m77.9/77.9 kB\u001b[0m \u001b[31m4.7 MB/s\u001b[0m eta \u001b[36m0:00:00\u001b[0m\n",
            "\u001b[?25hCollecting h11<0.15,>=0.13 (from httpcore==1.*->httpx<1,>=0.23.0->groq)\n",
            "  Downloading h11-0.14.0-py3-none-any.whl (58 kB)\n",
            "\u001b[2K     \u001b[90m━━━━━━━━━━━━━━━━━━━━━━━━━━━━━━━━━━━━━━━━\u001b[0m \u001b[32m58.3/58.3 kB\u001b[0m \u001b[31m3.0 MB/s\u001b[0m eta \u001b[36m0:00:00\u001b[0m\n",
            "\u001b[?25hRequirement already satisfied: annotated-types>=0.4.0 in /usr/local/lib/python3.10/dist-packages (from pydantic<3,>=1.9.0->groq) (0.6.0)\n",
            "Requirement already satisfied: pydantic-core==2.18.1 in /usr/local/lib/python3.10/dist-packages (from pydantic<3,>=1.9.0->groq) (2.18.1)\n",
            "Requirement already satisfied: aiosignal>=1.1.2 in /usr/local/lib/python3.10/dist-packages (from aiohttp>=3.8.4->e2b>=0.14.11->e2b_code_interpreter) (1.3.1)\n",
            "Requirement already satisfied: attrs>=17.3.0 in /usr/local/lib/python3.10/dist-packages (from aiohttp>=3.8.4->e2b>=0.14.11->e2b_code_interpreter) (23.2.0)\n",
            "Requirement already satisfied: frozenlist>=1.1.1 in /usr/local/lib/python3.10/dist-packages (from aiohttp>=3.8.4->e2b>=0.14.11->e2b_code_interpreter) (1.4.1)\n",
            "Requirement already satisfied: multidict<7.0,>=4.5 in /usr/local/lib/python3.10/dist-packages (from aiohttp>=3.8.4->e2b>=0.14.11->e2b_code_interpreter) (6.0.5)\n",
            "Requirement already satisfied: yarl<2.0,>=1.0 in /usr/local/lib/python3.10/dist-packages (from aiohttp>=3.8.4->e2b>=0.14.11->e2b_code_interpreter) (1.9.4)\n",
            "Requirement already satisfied: async-timeout<5.0,>=4.0 in /usr/local/lib/python3.10/dist-packages (from aiohttp>=3.8.4->e2b>=0.14.11->e2b_code_interpreter) (4.0.3)\n",
            "Requirement already satisfied: six>=1.5 in /usr/local/lib/python3.10/dist-packages (from python-dateutil>=2.8.2->e2b>=0.14.11->e2b_code_interpreter) (1.16.0)\n",
            "Requirement already satisfied: charset-normalizer<4,>=2 in /usr/local/lib/python3.10/dist-packages (from requests>=2.31.0->e2b>=0.14.11->e2b_code_interpreter) (3.3.2)\n",
            "Installing collected packages: aenum, websockets, jsonrpcclient, h11, httpcore, httpx, e2b, groq, e2b_code_interpreter\n",
            "Successfully installed aenum-3.1.15 e2b-0.14.14 e2b_code_interpreter-0.0.3 groq-0.5.0 h11-0.14.0 httpcore-1.0.5 httpx-0.27.0 jsonrpcclient-4.0.3 websockets-12.0\n"
          ]
        }
      ],
      "source": [
        "%pip install groq e2b_code_interpreter"
      ]
    },
    {
      "cell_type": "code",
      "execution_count": 3,
      "metadata": {
        "id": "NYAAAS_kFD87"
      },
      "outputs": [],
      "source": [
        "# TODO: Get your Groq AI API key from https://console.groq.com/\n",
        "GROQ_API_KEY = \"\"\n",
        "\n",
        "# TODO: Get your E2B API key from https://e2b.dev/docs\n",
        "E2B_API_KEY = \"\"\n",
        "\n",
        "# Or use 8b version\n",
        "# MODEL_NAME = \"llama3-8b-8192\"\n",
        "MODEL_NAME = \"llama3-70b-8192\"\n",
        "\n",
        "SYSTEM_PROMPT = \"\"\"you are a python data scientist. you are given tasks to complete and you run python code to solve them.\n",
        "  - DO NOT RESPOND WITH ANYTHING ELSE BUT PYTHON CODE\n",
        "  - DO NOT FORGET ANY IMPORTS LIKE `import numpy as np`\n",
        "  - the python code runs in jupyter notebook.\n",
        "  - every time you generate code, it's executed in a separate cell in jupyter notebook.\n",
        "  - display visualizations using matplotlib or any other visualization library directly in the notebook. don't worry about saving the visualizations to a file.\n",
        "  - you have access to the internet and can make api requests.\n",
        "  - you also have access to the filesystem and can read/write files.\n",
        "  - you can install any pip package (if it exists) if you need to but the usual packages for data analysis are already preinstalled.\n",
        "  - you can run any python code you want, everything is running in a secure sandbox environment.\"\"\""
      ]
    },
    {
      "cell_type": "code",
      "execution_count": 6,
      "metadata": {
        "id": "BpiwOkTqEeBh"
      },
      "outputs": [],
      "source": [
        "def code_interpret(e2b_code_interpreter, code):\n",
        "  print(\"Running code interpreter...\")\n",
        "  exec = e2b_code_interpreter.notebook.exec_cell(\n",
        "    code,\n",
        "    on_stderr=lambda stderr: print(\"[Code Interpreter]\", stderr),\n",
        "    on_stdout=lambda stdout: print(\"[Code Interpreter]\", stdout),\n",
        "    # You can also stream code execution results\n",
        "    # on_result=...\n",
        "  )\n",
        "\n",
        "  if exec.error:\n",
        "    print(\"[Code Interpreter ERROR]\", exec.error)\n",
        "  else:\n",
        "    return exec.results"
      ]
    },
    {
      "cell_type": "code",
      "execution_count": 8,
      "metadata": {
        "id": "IsLjFlRW_TAR"
      },
      "outputs": [],
      "source": [
        "import os\n",
        "import json\n",
        "import re\n",
        "from groq import Groq\n",
        "\n",
        "client = Groq(api_key=GROQ_API_KEY)\n",
        "\n",
        "def match_code_blocks(text):\n",
        "    pattern = re.compile(r'```(?:python)?[\\n\\r](.*?)```', re.DOTALL)\n",
        "    return pattern.findall(text)\n",
        "\n",
        "def chat_with_llama(e2b_code_interpreter, user_message):\n",
        "  print(f\"\\n{'='*50}\\nUser message: {user_message}\\n{'='*50}\")\n",
        "\n",
        "  messages = [\n",
        "      {\"role\": \"system\", \"content\": SYSTEM_PROMPT},\n",
        "      {\"role\": \"user\", \"content\": user_message}\n",
        "  ]\n",
        "\n",
        "  response = client.chat.completions.create(\n",
        "      model=MODEL_NAME,\n",
        "      messages=messages,\n",
        "  )\n",
        "\n",
        "  content = response.choices[0].message.content\n",
        "  # print(f\"\\nLlama 3 Response:\\n{content}\")\n",
        "  # print(\"===\")\n",
        "\n",
        "  code_results = []\n",
        "  code_blocks = match_code_blocks(content)\n",
        "  for code in code_blocks:\n",
        "    print(f\"Code to run: {code}\")\n",
        "\n",
        "    code_interpreter_results = code_interpret(e2b_code_interpreter, code)\n",
        "    print(f\"Tool Result: {code_interpreter_results}\")\n",
        "    code_results.append(code_interpreter_results)\n",
        "\n",
        "  return code_results\n",
        "\n"
      ]
    },
    {
      "cell_type": "code",
      "execution_count": 11,
      "metadata": {
        "colab": {
          "base_uri": "https://localhost:8080/",
          "height": 990
        },
        "id": "wKSWobclENIq",
        "outputId": "beaf092b-cea6-41a2-b702-40e5a586e060"
      },
      "outputs": [
        {
          "name": "stdout",
          "output_type": "stream",
          "text": [
            "\n",
            "==================================================\n",
            "User message: Visualize a distribution of haight of men based on the latest data you know\n",
            "==================================================\n",
            "Code to run: import matplotlib.pyplot as plt\n",
            "import numpy as np\n",
            "import scipy.stats as stats\n",
            "\n",
            "# According to the World Health Organization (WHO), the average height for an adult male is approximately 172 cm (5 ft 8 in) with a standard deviation of around 8-10 cm.\n",
            "\n",
            "# Let's simulate a distribution of heights with a mean of 172 cm and a standard deviation of 9 cm\n",
            "heights = np.random.normal(loc=172, scale=9, size=10000)\n",
            "\n",
            "# Visualize the distribution\n",
            "plt.hist(heights, bins=30, density=True, alpha=0.6, color='g')\n",
            "\n",
            "# Plot a fitted normal distribution curve\n",
            "x = np.linspace(150, 200, 100)\n",
            "y = stats.norm.pdf(x, loc=172, scale=9)\n",
            "plt.plot(x, y, 'r--')\n",
            "\n",
            "plt.xlabel('Height (cm)')\n",
            "plt.ylabel('Probability Density')\n",
            "plt.title('Distribution of Heights of Men')\n",
            "plt.show()\n",
            "\n",
            "Running code interpreter...\n",
            "Tool Result: [<e2b_code_interpreter.models.Result object at 0x7a0a3c156fe0>]\n",
            "<Figure size 640x480 with 1 Axes>\n"
          ]
        },
        {
          "data": {
            "image/png": "[encoded data removed]",
            "text/plain": [
              "<e2b_code_interpreter.models.Result at 0x7a0a3c156fe0>"
            ]
          },
          "execution_count": 11,
          "metadata": {},
          "output_type": "execute_result"
        }
      ],
      "source": [
        "from e2b_code_interpreter import CodeInterpreter\n",
        "\n",
        "with CodeInterpreter(api_key=E2B_API_KEY) as code_interpreter:\n",
        "  all_code_blocks_results = chat_with_llama(\n",
        "    code_interpreter,\n",
        "    \"Visualize a distribution of haight of men based on the latest data you know\"\n",
        "  )\n",
        "  for result in all_code_blocks_results:\n",
        "    print(result[0])\n",
        "\n",
        "# Each code block can have multiple code interpreter results\n",
        "first_result = all_code_blocks_results[0][0]\n",
        "\n",
        "# This will render the image\n",
        "# You can also access the data directly\n",
        "# first_result.png\n",
        "# first_result.jpg\n",
        "# first_result.pdf\n",
        "# ...\n",
        "first_result"
      ]
    }
  ],
  "metadata": {
    "colab": {
      "provenance": []
    },
    "kernelspec": {
      "display_name": "Python 3",
      "name": "python3"
    },
    "language_info": {
      "name": "python"
    }
  },
  "nbformat": 4,
  "nbformat_minor": 0
}
