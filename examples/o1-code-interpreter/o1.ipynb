{
  "cells": [
    {
      "cell_type": "markdown",
      "metadata": {},
      "source": [
        "# Code Interpreting with GPT-4o\n",
        "This example uses the E2B's [Code Interpreter](https://github.com/e2b-dev/code-interpreter) as a tool for OpenAI's o1 model. We ask o1 to generate Python code to train a machine learning model based on Kaggle's [Machine Learning from Disaster](https://www.kaggle.com/competitions/titanic) challenge and display the results in a graph."
      ]
    },
    {
      "cell_type": "code",
      "execution_count": 52,
      "metadata": {
        "id": "Z7uxglM8rkss"
      },
      "outputs": [],
      "source": [
        "%pip install openai e2b_code_interpreter"
      ]
    },
    {
      "cell_type": "code",
      "execution_count": null,
      "metadata": {
        "colab": {
          "base_uri": "https://localhost:8080/"
        },
        "id": "Fw165_Rl7go4",
        "outputId": "ee53a14c-752c-413b-c2b0-4c1e3a33de59"
      },
      "outputs": [],
      "source": [
        "# Get your API keys or save them to .env file.\n",
        "import os\n",
        "from dotenv import load_dotenv\n",
        "load_dotenv()\n",
        "\n",
        "# TODO: Get your OpenAI API key\n",
        "OPENAI_API_KEY = os.getenv(\"OPENAI_API_KEY\")\n",
        "\n",
        "# TODO: Get your E2B API key from https://e2b.dev/docs\n",
        "E2B_API_KEY = os.getenv(\"E2B_API_KEY\")\n",
        "\n",
        "PROMPT = \"\"\"You're a data scientist analyzing survival data from the Titanic Disaster. You are given tasks to complete and you run Python code to solve them.\n",
        "\n",
        "Information about the Titanic dataset:\n",
        "- It's in the `/home/user/train.csv` and `/home/user/test.csv` files\n",
        "- The CSV files are using `,` as the delimiter\n",
        "- They have following columns:\n",
        "  - PassengerId: Unique passenger ID\n",
        "  - Pclass: 1st, 2nd, 3rd (Ticket class)\n",
        "  - Name: Passenger name\n",
        "  - Sex: Gender\n",
        "  - Age: Age in years\n",
        "  - SibSp: Number of siblings/spouses aboard\n",
        "  - Parch: Number of parents/children aboard\n",
        "  - Ticket: Ticket number\n",
        "  - Fare: Passenger fare\n",
        "  - Cabin: Cabin number\n",
        "  - Embarked: Port of Embarkation (C = Cherbourg, Q = Queenstown, S = Southampton)\n",
        "\n",
        "Generally, you follow these rules:\n",
        "- ALWAYS FORMAT YOUR RESPONSE IN MARKDOWN\n",
        "- ALWAYS RESPOND ONLY WITH CODE IN CODE BLOCK LIKE THIS:\n",
        "```python\n",
        "{code}\n",
        "```\n",
        "- the python code runs in jupyter notebook.\n",
        "- every time you generate python, the code is executed in a separate cell. it's okay to multiple calls to `execute_python`.\n",
        "- display visualizations using matplotlib or any other visualization library directly in the notebook. don't worry about saving the visualizations to a file.\n",
        "- you have access to the internet and can make api requests.\n",
        "- you also have access to the filesystem and can read/write files.\n",
        "- install all packages before using by running `!pip install {package}`.\n",
        "- you can run any python code you want, everything is running in a secure sandbox environment\n",
        "\"\"\""
      ]
    },
    {
      "cell_type": "code",
      "execution_count": 55,
      "metadata": {
        "id": "UT578ezzr4RN"
      },
      "outputs": [],
      "source": [
        "import re\n",
        "pattern = re.compile(r'```python\\n(.*?)\\n```', re.DOTALL)  # Match everything in between ```python and ```\n",
        "\n",
        "def match_code_blocks(llm_response):\n",
        "    matches = pattern.findall(llm_response)  # Find all matches\n",
        "    if matches:\n",
        "        code = \"\\n\".join(matches)  # Concatenate all code blocks with newlines\n",
        "        print(code)\n",
        "        return code\n",
        "    return \"\""
      ]
    },
    {
      "cell_type": "code",
      "execution_count": 56,
      "metadata": {
        "id": "wzoaB4yYskGO"
      },
      "outputs": [],
      "source": [
        "from openai import OpenAI\n",
        "\n",
        "def chat(e2b_code_interpreter, user_message):\n",
        "  print(f\"\\n{'='*50}\\nUser message: {user_message}\\n{'='*50}\")\n",
        "\n",
        "  client = OpenAI(api_key=OPENAI_API_KEY)\n",
        "\n",
        "  response_o1 = client.chat.completions.create(\n",
        "    model=\"o1-mini\",\n",
        "    messages=[\n",
        "      {\"role\": \"user\", \"content\": PROMPT},\n",
        "      {\"role\": \"user\", \"content\": user_message}\n",
        "  ])\n",
        "\n",
        "  content_o1 = response_o1.choices[0].message.content;\n",
        "  #print(content_o1)\n",
        "\n",
        "  response_4o = client.chat.completions.create(\n",
        "    model=\"gpt-4o-mini\",\n",
        "    messages=[\n",
        "        {\"role\": \"system\", \"content\": \"You are an expert software engineer that receives an execution plan, and then creates a single Python script that does everything in the plan. It will be executed in a single Python notebook cell.\" },\n",
        "        {\"role\": \"user\", \"content\": f\"This is the plan I received, please write fully functional code that I can run in one notebook cell, and list all its dependencies: {content_o1}\"},\n",
        "  ])\n",
        "\n",
        "  content_4o = response_4o.choices[0].message.content\n",
        "  python_code = match_code_blocks(content_4o)\n",
        "\n",
        "  if python_code != \"\":\n",
        "    code_interpreter_results = code_interpret(e2b_code_interpreter, python_code)\n",
        "    return code_interpreter_results\n",
        "  else:\n",
        "    print(f\"Failed to match any Python code in model's response {content_4o}\")\n",
        "    return[]"
      ]
    },
    {
      "cell_type": "code",
      "execution_count": 57,
      "metadata": {
        "id": "wSBB7e1Tsnav"
      },
      "outputs": [],
      "source": [
        "def upload_dataset(code_interpreter):\n",
        "  print(\"Uploading dataset to Code Interpreter sandbox...\")\n",
        "  with open(\"./test.csv\", \"rb\") as f:\n",
        "    remote_path = code_interpreter.upload_file(f)\n",
        "  with open(\"./train.csv\", \"rb\") as f:\n",
        "    remote_path = code_interpreter.upload_file(f)\n",
        "  print(\"Uploaded at\", remote_path)"
      ]
    },
    {
      "cell_type": "code",
      "execution_count": 58,
      "metadata": {
        "id": "Hibi4_ZluIRb"
      },
      "outputs": [],
      "source": [
        "def code_interpret(e2b_code_interpreter, code):\n",
        "  print(\"Running code interpreter...\")\n",
        "  exec = e2b_code_interpreter.notebook.exec_cell(\n",
        "    code,\n",
        "    on_stderr=lambda stderr: print(\"[Code Interpreter]\", stderr),\n",
        "    on_stdout=lambda stdout: print(\"[Code Interpreter]\", stdout),\n",
        "  )\n",
        "\n",
        "  if exec.error:\n",
        "    print(\"[Code Interpreter ERROR]\", exec.error)\n",
        "  else:\n",
        "    return exec.results"
      ]
    },
    {
      "cell_type": "code",
      "execution_count": 60,
      "metadata": {
        "colab": {
          "base_uri": "https://localhost:8080/",
          "height": 1000
        },
        "id": "b4VsGbZyspXb",
        "outputId": "cf82fa50-355f-438d-e2c5-6adef7e28abf"
      },
      "outputs": [
        {
          "name": "stdout",
          "output_type": "stream",
          "text": [
            "Uploading dataset to Code Interpreter sandbox...\n",
            "Uploaded at /home/user/train.csv\n",
            "\n",
            "==================================================\n",
            "User message: Clean the data, train a decision tree to predict the survival of passengers, and visualize the learning curve.\n",
            "==================================================\n",
            "# Install dependencies\n",
            "!pip install pandas numpy scikit-learn matplotlib seaborn\n",
            "\n",
            "# Import libraries\n",
            "import pandas as pd\n",
            "import numpy as np\n",
            "import matplotlib.pyplot as plt\n",
            "import seaborn as sns\n",
            "from sklearn.model_selection import train_test_split, learning_curve\n",
            "from sklearn.tree import DecisionTreeClassifier\n",
            "from sklearn.metrics import accuracy_score\n",
            "from sklearn.preprocessing import LabelEncoder\n",
            "\n",
            "# Load the datasets\n",
            "train = pd.read_csv('/home/user/train.csv', delimiter=',')\n",
            "test = pd.read_csv('/home/user/test.csv', delimiter=',')\n",
            "\n",
            "# Combine train and test for consistent preprocessing\n",
            "data = pd.concat([train, test], sort=False)\n",
            "\n",
            "# Drop Cabin as it has too many missing values\n",
            "data = data.drop('Cabin', axis=1)\n",
            "\n",
            "# Fill missing Embarked with mode\n",
            "data['Embarked'] = data['Embarked'].fillna(data['Embarked'].mode()[0])\n",
            "\n",
            "# Fill missing Age with median\n",
            "data['Age'] = data['Age'].fillna(data['Age'].median())\n",
            "\n",
            "# Fill missing Fare in test set\n",
            "data['Fare'] = data['Fare'].fillna(data['Fare'].median())\n",
            "\n",
            "# Convert categorical variables to numerical\n",
            "le = LabelEncoder()\n",
            "data['Sex'] = le.fit_transform(data['Sex'])\n",
            "data['Embarked'] = le.fit_transform(data['Embarked'])\n",
            "data['Pclass'] = data['Pclass'].astype(str)\n",
            "data['Pclass'] = le.fit_transform(data['Pclass'])\n",
            "\n",
            "# Drop unnecessary columns\n",
            "data = data.drop(['PassengerId', 'Name', 'Ticket'], axis=1)\n",
            "\n",
            "# Split back into train and test\n",
            "train_clean = data[:len(train)]\n",
            "test_clean = data[len(train):]\n",
            "\n",
            "# Define features and target\n",
            "X = train_clean.drop('Survived', axis=1)\n",
            "y = train_clean['Survived']\n",
            "\n",
            "# Split the data into training and validation sets\n",
            "X_train, X_val, y_train, y_val = train_test_split(X, y, test_size=0.2, random_state=42)\n",
            "\n",
            "# Train the Decision Tree classifier\n",
            "clf = DecisionTreeClassifier(random_state=42)\n",
            "clf.fit(X_train, y_train)\n",
            "\n",
            "# Validate the model\n",
            "y_pred = clf.predict(X_val)\n",
            "accuracy = accuracy_score(y_val, y_pred)\n",
            "print(f'Validation Accuracy: {accuracy:.4f}')\n",
            "\n",
            "# Generate learning curve\n",
            "train_sizes, train_scores, test_scores = learning_curve(\n",
            "    clf, X, y, cv=5, scoring='accuracy', train_sizes=np.linspace(0.1, 1.0, 10), random_state=42\n",
            ")\n",
            "\n",
            "train_mean = np.mean(train_scores, axis=1)\n",
            "train_std = np.std(train_scores, axis=1)\n",
            "test_mean = np.mean(test_scores, axis=1)\n",
            "test_std = np.std(test_scores, axis=1)\n",
            "\n",
            "# Plot the learning curve\n",
            "plt.figure(figsize=(10,6))\n",
            "plt.plot(train_sizes, train_mean, label='Training score')\n",
            "plt.fill_between(train_sizes, train_mean - train_std, train_mean + train_std, alpha=0.1)\n",
            "plt.plot(train_sizes, test_mean, label='Cross-validation score')\n",
            "plt.fill_between(train_sizes, test_mean - test_std, test_mean + test_std, alpha=0.1)\n",
            "plt.title('Learning Curve for Decision Tree Classifier')\n",
            "plt.xlabel('Training Set Size')\n",
            "plt.ylabel('Accuracy')\n",
            "plt.legend()\n",
            "plt.grid()\n",
            "plt.show()\n",
            "Running code interpreter...\n",
            "[Code Interpreter] Requirement already satisfied: pandas in /usr/local/lib/python3.10/site-packages (1.5.3)\n",
            "Requirement already satisfied: numpy in /usr/local/lib/python3.10/site-packages (1.26.4)\n",
            "Requirement already satisfied: scikit-learn in /usr/local/lib/python3.10/site-packages (1.4.1.post1)\n",
            "Requirement already satisfied: matplotlib in /usr/local/lib/python3.10/site-packages (3.8.3)\n",
            "Requirement already satisfied: seaborn in /usr/local/lib/python3.10/site-packages (0.13.2)\n",
            "Requirement already satisfied: pytz>=2020.1 in /usr/local/lib/python3.10/site-packages (from pandas) (2024.1)\n",
            "Requirement already satisfied: python-dateutil>=2.8.1 in /usr/local/lib/python3.10/site-packages (from pandas) (2.9.0.post0)\n",
            "\n",
            "[Code Interpreter] Requirement already satisfied: scipy>=1.6.0 in /usr/local/lib/python3.10/site-packages (from scikit-learn) (1.12.0)\n",
            "Requirement already satisfied: threadpoolctl>=2.0.0 in /usr/local/lib/python3.10/site-packages (from scikit-learn) (3.5.0)\n",
            "Requirement already satisfied: joblib>=1.2.0 in /usr/local/lib/python3.10/site-packages (from scikit-learn) (1.3.2)\n",
            "\n",
            "[Code Interpreter] Requirement already satisfied: contourpy>=1.0.1 in /usr/local/lib/python3.10/site-packages (from matplotlib) (1.2.1)\n",
            "Requirement already satisfied: kiwisolver>=1.3.1 in /usr/local/lib/python3.10/site-packages (from matplotlib) (1.4.5)\n",
            "Requirement already satisfied: cycler>=0.10 in /usr/local/lib/python3.10/site-packages (from matplotlib) (0.12.1)\n",
            "Requirement already satisfied: fonttools>=4.22.0 in /usr/local/lib/python3.10/site-packages (from matplotlib) (4.53.1)\n",
            "Requirement already satisfied: pillow>=8 in /usr/local/lib/python3.10/site-packages (from matplotlib) (10.4.0)\n",
            "Requirement already satisfied: pyparsing>=2.3.1 in /usr/local/lib/python3.10/site-packages (from matplotlib) (3.1.2)\n",
            "Requirement already satisfied: packaging>=20.0 in /usr/local/lib/python3.10/site-packages (from matplotlib) (24.1)\n",
            "\n",
            "[Code Interpreter] Requirement already satisfied: six>=1.5 in /usr/local/lib/python3.10/site-packages (from python-dateutil>=2.8.1->pandas) (1.16.0)\n",
            "\n",
            "[Code Interpreter] \u001b[33mWARNING: Running pip as the 'root' user can result in broken permissions and conflicting behaviour with the system package manager. It is recommended to use a virtual environment instead: https://pip.pypa.io/warnings/venv\u001b[0m\u001b[33m\n",
            "\u001b[0m\n",
            "[Code Interpreter] \n",
            "\u001b[1m[\u001b[0m\u001b[34;49mnotice\u001b[0m\u001b[1;39;49m]\u001b[0m\u001b[39;49m A new release of pip is available: \u001b[0m\u001b[31;49m23.0.1\u001b[0m\u001b[39;49m -> \u001b[0m\u001b[32;49m24.2\u001b[0m\n",
            "\u001b[1m[\u001b[0m\u001b[34;49mnotice\u001b[0m\u001b[1;39;49m]\u001b[0m\u001b[39;49m To update, run: \u001b[0m\u001b[32;49mpip install --upgrade pip\u001b[0m\n",
            "\n",
            "[Code Interpreter] Validation Accuracy: 0.7821\n",
            "\n"
          ]
        },
        {
          "data": {
            "image/png": "[encoded data removed]",
            "text/plain": [
              "Result(<Figure size 1000x600 with 1 Axes>)"
            ]
          },
          "execution_count": 60,
          "metadata": {},
          "output_type": "execute_result"
        }
      ],
      "source": [
        "from e2b_code_interpreter import CodeInterpreter\n",
        "\n",
        "with CodeInterpreter(api_key=E2B_API_KEY) as code_interpreter:\n",
        "  # Upload the dataset to the code interpreter sandbox\n",
        "  upload_dataset(code_interpreter)\n",
        "\n",
        "  code_results = chat(\n",
        "    code_interpreter,\n",
        "    \"Clean the data, train a decision tree to predict the survival of passengers, and visualize the learning curve.\"\n",
        "  )\n",
        "  if code_results:\n",
        "    first_result = code_results[0]\n",
        "  else:\n",
        "    raise Exception(\"No code interpreter results\")\n",
        "\n",
        "first_result"
      ]
    }
  ],
  "metadata": {
    "colab": {
      "provenance": []
    },
    "kernelspec": {
      "display_name": "Python 3",
      "name": "python3"
    },
    "language_info": {
      "name": "python"
    }
  },
  "nbformat": 4,
  "nbformat_minor": 0
}
