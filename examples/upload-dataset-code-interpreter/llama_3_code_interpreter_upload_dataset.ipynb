{
  "cells": [
    {
      "cell_type": "markdown",
      "metadata": {
        "id": "sgJos9SJNkht"
      },
      "source": [
        "# Llama 3 with code interpreting and analyzing uploaded dataset\n",
        "**Powered by open-source [Code Interpreter SDK](https://github.com/e2b-dev/code-interpreter) by [E2B](https://e2b.dev/docs)**\n",
        "\n",
        "E2B's code interpreter SDK quickly creates a secure cloud sandbox powered by [Firecracker](https://github.com/firecracker-microvm/firecracker).\n",
        "\n",
        "Inside this sandbox is a running Jupyter server that the LLM can use."
      ]
    },
    {
      "cell_type": "markdown",
      "metadata": {
        "id": "c3XPiIUY1vqt"
      },
      "source": [
        "### Step 1: Install dependencies\n",
        "\n",
        "We start by install the [E2B code interpreter SDK](https://github.com/e2b-dev/code-interpreter) and [Groq's Python SDK](https://console.groq.com/)."
      ]
    },
    {
      "cell_type": "code",
      "execution_count": 3,
      "metadata": {
        "colab": {
          "base_uri": "https://localhost:8080/"
        },
        "id": "OLxqUGV5_wnv",
        "outputId": "399b55e4-0f58-4d31-9b43-1ef76f054f27"
      },
      "outputs": [
        {
          "name": "stdout",
          "output_type": "stream",
          "text": [
            "Requirement already satisfied: groq in /usr/local/lib/python3.10/dist-packages (0.6.0)\n",
            "Requirement already satisfied: e2b_code_interpreter in /usr/local/lib/python3.10/dist-packages (0.0.6)\n",
            "Requirement already satisfied: anyio<5,>=3.5.0 in /usr/local/lib/python3.10/dist-packages (from groq) (3.7.1)\n",
            "Requirement already satisfied: distro<2,>=1.7.0 in /usr/lib/python3/dist-packages (from groq) (1.7.0)\n",
            "Requirement already satisfied: httpx<1,>=0.23.0 in /usr/local/lib/python3.10/dist-packages (from groq) (0.27.0)\n",
            "Requirement already satisfied: pydantic<3,>=1.9.0 in /usr/local/lib/python3.10/dist-packages (from groq) (2.7.1)\n",
            "Requirement already satisfied: sniffio in /usr/local/lib/python3.10/dist-packages (from groq) (1.3.1)\n",
            "Requirement already satisfied: typing-extensions<5,>=4.7 in /usr/local/lib/python3.10/dist-packages (from groq) (4.11.0)\n",
            "Requirement already satisfied: e2b>=0.17.0 in /usr/local/lib/python3.10/dist-packages (from e2b_code_interpreter) (0.17.0)\n",
            "Requirement already satisfied: websocket-client<2.0.0,>=1.7.0 in /usr/local/lib/python3.10/dist-packages (from e2b_code_interpreter) (1.8.0)\n",
            "Requirement already satisfied: idna>=2.8 in /usr/local/lib/python3.10/dist-packages (from anyio<5,>=3.5.0->groq) (3.7)\n",
            "Requirement already satisfied: exceptiongroup in /usr/local/lib/python3.10/dist-packages (from anyio<5,>=3.5.0->groq) (1.2.1)\n",
            "Requirement already satisfied: aenum>=3.1.11 in /usr/local/lib/python3.10/dist-packages (from e2b>=0.17.0->e2b_code_interpreter) (3.1.15)\n",
            "Requirement already satisfied: aiohttp>=3.8.4 in /usr/local/lib/python3.10/dist-packages (from e2b>=0.17.0->e2b_code_interpreter) (3.9.5)\n",
            "Requirement already satisfied: jsonrpcclient>=4.0.3 in /usr/local/lib/python3.10/dist-packages (from e2b>=0.17.0->e2b_code_interpreter) (4.0.3)\n",
            "Requirement already satisfied: python-dateutil>=2.8.2 in /usr/local/lib/python3.10/dist-packages (from e2b>=0.17.0->e2b_code_interpreter) (2.8.2)\n",
            "Requirement already satisfied: requests>=2.31.0 in /usr/local/lib/python3.10/dist-packages (from e2b>=0.17.0->e2b_code_interpreter) (2.31.0)\n",
            "Requirement already satisfied: urllib3>=1.25.3 in /usr/local/lib/python3.10/dist-packages (from e2b>=0.17.0->e2b_code_interpreter) (2.0.7)\n",
            "Requirement already satisfied: websockets>=11.0.3 in /usr/local/lib/python3.10/dist-packages (from e2b>=0.17.0->e2b_code_interpreter) (12.0)\n",
            "Requirement already satisfied: certifi in /usr/local/lib/python3.10/dist-packages (from httpx<1,>=0.23.0->groq) (2024.2.2)\n",
            "Requirement already satisfied: httpcore==1.* in /usr/local/lib/python3.10/dist-packages (from httpx<1,>=0.23.0->groq) (1.0.5)\n",
            "Requirement already satisfied: h11<0.15,>=0.13 in /usr/local/lib/python3.10/dist-packages (from httpcore==1.*->httpx<1,>=0.23.0->groq) (0.14.0)\n",
            "Requirement already satisfied: annotated-types>=0.4.0 in /usr/local/lib/python3.10/dist-packages (from pydantic<3,>=1.9.0->groq) (0.6.0)\n",
            "Requirement already satisfied: pydantic-core==2.18.2 in /usr/local/lib/python3.10/dist-packages (from pydantic<3,>=1.9.0->groq) (2.18.2)\n",
            "Requirement already satisfied: aiosignal>=1.1.2 in /usr/local/lib/python3.10/dist-packages (from aiohttp>=3.8.4->e2b>=0.17.0->e2b_code_interpreter) (1.3.1)\n",
            "Requirement already satisfied: attrs>=17.3.0 in /usr/local/lib/python3.10/dist-packages (from aiohttp>=3.8.4->e2b>=0.17.0->e2b_code_interpreter) (23.2.0)\n",
            "Requirement already satisfied: frozenlist>=1.1.1 in /usr/local/lib/python3.10/dist-packages (from aiohttp>=3.8.4->e2b>=0.17.0->e2b_code_interpreter) (1.4.1)\n",
            "Requirement already satisfied: multidict<7.0,>=4.5 in /usr/local/lib/python3.10/dist-packages (from aiohttp>=3.8.4->e2b>=0.17.0->e2b_code_interpreter) (6.0.5)\n",
            "Requirement already satisfied: yarl<2.0,>=1.0 in /usr/local/lib/python3.10/dist-packages (from aiohttp>=3.8.4->e2b>=0.17.0->e2b_code_interpreter) (1.9.4)\n",
            "Requirement already satisfied: async-timeout<5.0,>=4.0 in /usr/local/lib/python3.10/dist-packages (from aiohttp>=3.8.4->e2b>=0.17.0->e2b_code_interpreter) (4.0.3)\n",
            "Requirement already satisfied: six>=1.5 in /usr/local/lib/python3.10/dist-packages (from python-dateutil>=2.8.2->e2b>=0.17.0->e2b_code_interpreter) (1.16.0)\n",
            "Requirement already satisfied: charset-normalizer<4,>=2 in /usr/local/lib/python3.10/dist-packages (from requests>=2.31.0->e2b>=0.17.0->e2b_code_interpreter) (3.3.2)\n"
          ]
        }
      ],
      "source": [
        "%pip install groq e2b_code_interpreter"
      ]
    },
    {
      "cell_type": "markdown",
      "metadata": {
        "id": "MJDyfcPYyLe7"
      },
      "source": [
        "### Step 2: Define API keys, prompt, and tools\n",
        "\n",
        "Let's define our variables with API keys for Groq and E2B together with the model ID, prompt, and our tools."
      ]
    },
    {
      "cell_type": "code",
      "execution_count": 25,
      "metadata": {
        "id": "NYAAAS_kFD87"
      },
      "outputs": [],
      "source": [
        "# TODO: Get your Groq AI API key from https://console.groq.com/\n",
        "GROQ_API_KEY = \"\"\n",
        "\n",
        "# TODO: Get your E2B API key from https://e2b.dev/docs\n",
        "E2B_API_KEY = \"\"\n",
        "\n",
        "# Or use 8b version\n",
        "# MODEL_NAME = \"llama3-8b-8192\"\n",
        "MODEL_NAME = \"llama3-70b-8192\"\n",
        "\n",
        "SYSTEM_PROMPT = \"\"\"You're a python data scientist that is analyzing daily temperature of major cities. You are given tasks to complete and you run python code to solve them.\n",
        "\n",
        "Information about the the temperature dataset:\n",
        "- It's in the `/home/user/city_temperature.csv` file\n",
        "- It has following columns (examples included):\n",
        "  - `Region`: \"North America\", \"Europe\"\n",
        "  - `Country`: \"Iceland\"\n",
        "  - `State`: for example \"Texas\" but can also be null\n",
        "  - `City`: \"Prague\"\n",
        "  - `Month`: \"June\"\n",
        "  - `Day`: 1-31\n",
        "  - `Year`: 2002\n",
        "  - `AvgTemperature`: temperature in celsiu, for example 24\n",
        "\n",
        "Generally you follow these rules:\n",
        "- the python code runs in jupyter notebook.\n",
        "- every time you call `execute_python` tool, the python code is executed in a separate cell. it's okay to multiple calls to `execute_python`.\n",
        "- display visualizations using matplotlib or any other visualization library directly in the notebook. don't worry about saving the visualizations to a file.\n",
        "- you have access to the internet and can make api requests.\n",
        "- you also have access to the filesystem and can read/write files.\n",
        "- you can install any pip package (if it exists) if you need to but the usual packages for data analysis are already preinstalled.\n",
        "- you can run any python code you want, everything is running in a secure sandbox environment\n",
        "\"\"\"\n",
        "\n",
        "\n",
        "tools = [\n",
        "  {\n",
        "    \"type\": \"function\",\n",
        "      \"function\": {\n",
        "        \"name\": \"execute_python\",\n",
        "        \"description\": \"Execute python code in a Jupyter notebook cell and returns any result, stdout, stderr, display_data, and error.\",\n",
        "        \"parameters\": {\n",
        "          \"type\": \"object\",\n",
        "          \"properties\": {\n",
        "            \"code\": {\n",
        "              \"type\": \"string\",\n",
        "              \"description\": \"The python code to execute in a single cell.\",\n",
        "            }\n",
        "          },\n",
        "          \"required\": [\"code\"],\n",
        "        },\n",
        "      },\n",
        "  }\n",
        "]"
      ]
    },
    {
      "cell_type": "markdown",
      "metadata": {
        "id": "10O-rSQcy4Bi"
      },
      "source": [
        "### Step 3: Implement the method for code interpreting\n",
        "\n",
        "Here's the main function that use the E2B code interpreter SDK. We'll be calling this function a little bit further when we're parsing the Llama's response with tool calls."
      ]
    },
    {
      "cell_type": "code",
      "execution_count": 26,
      "metadata": {
        "id": "BpiwOkTqEeBh"
      },
      "outputs": [],
      "source": [
        "def code_interpret(e2b_code_interpreter, code):\n",
        "  print(\"Running code interpreter...\")\n",
        "  exec = e2b_code_interpreter.notebook.exec_cell(\n",
        "    code,\n",
        "    on_stderr=lambda stderr: print(\"[Code Interpreter]\", stderr),\n",
        "    on_stdout=lambda stdout: print(\"[Code Interpreter]\", stdout),\n",
        "    # You can also stream code execution results\n",
        "    # on_result=...\n",
        "  )\n",
        "\n",
        "  if exec.error:\n",
        "    print(\"[Code Interpreter ERROR]\", exec.error)\n",
        "  else:\n",
        "    return exec.results"
      ]
    },
    {
      "cell_type": "markdown",
      "metadata": {
        "id": "A1eYw4jKz3RX"
      },
      "source": [
        "### Step 4: Implement the method for calling LLM and parsing tools\n",
        "\n",
        "Now we're going to define and implement `chat_with_llama` method. In this method, we'll call the LLM with our `tools` dictionary, parse the output, and call our `code_interpret` method we defined above."
      ]
    },
    {
      "cell_type": "code",
      "execution_count": 27,
      "metadata": {
        "id": "IsLjFlRW_TAR"
      },
      "outputs": [],
      "source": [
        "import os\n",
        "import json\n",
        "import re\n",
        "from groq import Groq\n",
        "\n",
        "client = Groq(api_key=GROQ_API_KEY)\n",
        "\n",
        "def chat_with_llama(e2b_code_interpreter, user_message):\n",
        "  print(f\"\\n{'='*50}\\nUser message: {user_message}\\n{'='*50}\")\n",
        "\n",
        "  messages = [\n",
        "      {\"role\": \"system\", \"content\": SYSTEM_PROMPT},\n",
        "      {\"role\": \"user\", \"content\": user_message}\n",
        "  ]\n",
        "\n",
        "  response = client.chat.completions.create(\n",
        "      model=MODEL_NAME,\n",
        "      messages=messages,\n",
        "      tools=tools,\n",
        "      tool_choice=\"auto\",\n",
        "      max_tokens=4096,\n",
        "  )\n",
        "\n",
        "  response_message = response.choices[0].message\n",
        "  tool_calls = response_message.tool_calls\n",
        "\n",
        "  if tool_calls:\n",
        "    for tool_call in tool_calls:\n",
        "      function_name = tool_call.function.name\n",
        "      function_args = json.loads(tool_call.function.arguments)\n",
        "      if function_name == \"execute_python\":\n",
        "        code = function_args[\"code\"]\n",
        "        code_interpreter_results = code_interpret(e2b_code_interpreter, code)\n",
        "        return code_interpreter_results\n",
        "      else:\n",
        "        raise Exception(f\"Unknown tool {function_name}\")\n",
        "  else:\n",
        "    print(f\"(No tool call in model's response) {response_message}\")\n",
        "    return []\n"
      ]
    },
    {
      "cell_type": "markdown",
      "metadata": {
        "id": "9ey_AwvPi-DG"
      },
      "source": [
        "### Step 5: Implement method for uploading dataset to code interpreter sandbox\n",
        "The file gets uploaded to the E2B sandbox where our code interpreter is running. We get the file's remote path in the `remote_path` variable."
      ]
    },
    {
      "cell_type": "code",
      "execution_count": 28,
      "metadata": {
        "id": "f-CsLqcHQk5r"
      },
      "outputs": [],
      "source": [
        "def upload_dataset(code_interpreter):\n",
        "  print(\"Uploading dataset to Code Interpreter sandbox...\")\n",
        "  with open(\"./city_temperature.csv\", \"rb\") as f:\n",
        "    remote_path = code_interpreter.upload_file(f)\n",
        "  print(\"Uploaded at\", remote_path)"
      ]
    },
    {
      "cell_type": "markdown",
      "metadata": {
        "id": "1ybhpXok1tQC"
      },
      "source": [
        "### Step 6: Put everything together\n",
        "In this last step, we put all the pieces together. We instantiate a new code interpreter instance using\n",
        "```python\n",
        "with CodeInterpreter(api_key=E2B_API_KEY) as code_interpreter:\n",
        "```\n",
        "\n",
        "and then call the `chat_with_llama` method with our user message and the `code_interpreter` instance."
      ]
    },
    {
      "cell_type": "code",
      "execution_count": 34,
      "metadata": {
        "colab": {
          "base_uri": "https://localhost:8080/",
          "height": 597
        },
        "id": "wKSWobclENIq",
        "outputId": "e6014ac3-e70f-48c2-d73f-cecea1984865"
      },
      "outputs": [
        {
          "name": "stdout",
          "output_type": "stream",
          "text": [
            "Uploading dataset to Code Interpreter sandbox...\n",
            "Uploaded at /home/user/city_temperature.csv\n",
            "\n",
            "==================================================\n",
            "User message: Plot average temperature over the years in Algeria\n",
            "==================================================\n",
            "Running code interpreter...\n"
          ]
        },
        {
          "data": {
            "image/png": "[encoded data removed]",
            "text/plain": [
              "<e2b_code_interpreter.models.Result at 0x7e179182b280>"
            ]
          },
          "execution_count": 34,
          "metadata": {},
          "output_type": "execute_result"
        }
      ],
      "source": [
        "from e2b_code_interpreter import CodeInterpreter\n",
        "\n",
        "\n",
        "with CodeInterpreter(api_key=E2B_API_KEY) as code_interpreter:\n",
        "\n",
        "  # Upload the dataset to the code interpreter sandbox\n",
        "  upload_dataset(code_interpreter)\n",
        "\n",
        "  code_results = chat_with_llama(\n",
        "    code_interpreter,\n",
        "    \"Plot average temperature over the years in Algeria\"\n",
        "  )\n",
        "  if code_results:\n",
        "    first_result = code_results[0]\n",
        "  else:\n",
        "    raise Exception(\"No code results\")\n",
        "\n",
        "\n",
        "# This will render the image\n",
        "# You can also access the data directly\n",
        "# first_result.png\n",
        "# first_result.jpg\n",
        "# first_result.pdf\n",
        "# ...\n",
        "first_result"
      ]
    }
  ],
  "metadata": {
    "colab": {
      "provenance": []
    },
    "kernelspec": {
      "display_name": "Python 3",
      "name": "python3"
    },
    "language_info": {
      "name": "python"
    }
  },
  "nbformat": 4,
  "nbformat_minor": 0
}
